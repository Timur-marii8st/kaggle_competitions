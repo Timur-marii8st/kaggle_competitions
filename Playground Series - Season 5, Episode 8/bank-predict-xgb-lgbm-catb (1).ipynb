{
 "cells": [
  {
   "cell_type": "code",
   "execution_count": 1,
   "id": "03a8d12f",
   "metadata": {
    "execution": {
     "iopub.execute_input": "2025-08-08T18:47:11.178677Z",
     "iopub.status.busy": "2025-08-08T18:47:11.178433Z",
     "iopub.status.idle": "2025-08-08T18:47:24.683055Z",
     "shell.execute_reply": "2025-08-08T18:47:24.682481Z"
    },
    "papermill": {
     "duration": 13.509606,
     "end_time": "2025-08-08T18:47:24.684591",
     "exception": false,
     "start_time": "2025-08-08T18:47:11.174985",
     "status": "completed"
    },
    "tags": []
   },
   "outputs": [],
   "source": [
    "%load_ext cudf.pandas"
   ]
  },
  {
   "cell_type": "code",
   "execution_count": 2,
   "id": "74ea4c86",
   "metadata": {
    "_cell_guid": "b1076dfc-b9ad-4769-8c92-a6c4dae69d19",
    "_uuid": "8f2839f25d086af736a60e9eeb907d3b93b6e0e5",
    "execution": {
     "iopub.execute_input": "2025-08-08T18:47:24.689850Z",
     "iopub.status.busy": "2025-08-08T18:47:24.689403Z",
     "iopub.status.idle": "2025-08-08T18:47:29.629143Z",
     "shell.execute_reply": "2025-08-08T18:47:29.628552Z"
    },
    "papermill": {
     "duration": 4.943519,
     "end_time": "2025-08-08T18:47:29.630472",
     "exception": false,
     "start_time": "2025-08-08T18:47:24.686953",
     "status": "completed"
    },
    "tags": []
   },
   "outputs": [],
   "source": [
    "import xgboost as xgb\n",
    "import pandas as pd\n",
    "import numpy as np\n",
    "import warnings\n",
    "import optuna\n",
    "import gc\n",
    "from sklearn.model_selection import StratifiedKFold\n",
    "from pandas.errors import PerformanceWarning\n",
    "from sklearn.metrics import roc_auc_score\n",
    "from optuna.samplers import TPESampler\n",
    "from itertools import combinations\n",
    "from xgboost import XGBClassifier\n",
    "from tqdm import tqdm\n",
    "import lightgbm as lgb\n",
    "from catboost import CatBoostClassifier\n",
    "\n",
    "\n",
    "warnings.simplefilter(action=\"ignore\", category=PerformanceWarning)"
   ]
  },
  {
   "cell_type": "code",
   "execution_count": 3,
   "id": "e033a7fa",
   "metadata": {
    "execution": {
     "iopub.execute_input": "2025-08-08T18:47:29.635264Z",
     "iopub.status.busy": "2025-08-08T18:47:29.634705Z",
     "iopub.status.idle": "2025-08-08T18:47:36.322713Z",
     "shell.execute_reply": "2025-08-08T18:47:36.321945Z"
    },
    "papermill": {
     "duration": 6.691486,
     "end_time": "2025-08-08T18:47:36.323876",
     "exception": false,
     "start_time": "2025-08-08T18:47:29.632390",
     "status": "completed"
    },
    "tags": []
   },
   "outputs": [
    {
     "name": "stderr",
     "output_type": "stream",
     "text": [
      "/usr/local/lib/python3.11/dist-packages/cudf/pandas/fast_slow_proxy.py:28: FutureWarning: Downcasting behavior in `replace` is deprecated and will be removed in a future version. To retain the old behavior, explicitly call `result.infer_objects(copy=False)`. To opt-in to the future behavior, set `pd.set_option('future.no_silent_downcasting', True)`\n",
      "  return fn(*args, **kwargs)\n",
      "100%|██████████| 120/120 [00:05<00:00, 22.30it/s]\n"
     ]
    }
   ],
   "source": [
    "#  --- Feature proccesing ----\n",
    "train = pd.read_csv('/kaggle/input/playground-series-s5e8/train.csv', index_col='id')\n",
    "test = pd.read_csv('/kaggle/input/playground-series-s5e8/test.csv', index_col='id')\n",
    "orig = pd.read_csv('/kaggle/input/bank-marketing-dataset-full/bank-full.csv', delimiter=';')\n",
    "orig['y'] = orig['y'].replace({'yes': 1, 'no': 0})\n",
    "\n",
    "TARGET = 'y'\n",
    "NUMS = ['age', 'balance', 'day', 'duration', 'campaign', 'pdays', 'previous']\n",
    "CATS = ['job', 'marital', 'education', 'default', 'housing', 'loan', 'contact', 'month', 'poutcome']\n",
    "\n",
    "train[CATS] = train[CATS].astype('category')\n",
    "test[CATS] = test[CATS].astype('category')\n",
    "orig[CATS] = orig[CATS].astype('category')\n",
    "\n",
    "TE_columns = []\n",
    "\n",
    "columns = NUMS + CATS\n",
    "\n",
    "\n",
    "\n",
    "# Creating new columns\n",
    "for r in [2]:\n",
    "    for cols in tqdm(list(combinations(columns, r))):\n",
    "        name = '-'.join(cols)\n",
    "    \n",
    "        train[name] = train[cols[0]].astype(str)\n",
    "        for col in cols[1:]:\n",
    "            train[name] = train[name] + '_' + train[col].astype(str)\n",
    "    \n",
    "        test[name] = test[cols[0]].astype(str)\n",
    "        for col in cols[1:]:\n",
    "            test[name] = test[name] + '_' + test[col].astype(str)\n",
    "    \n",
    "        orig[name] = orig[cols[0]].astype(str)\n",
    "        for col in cols[1:]:\n",
    "            orig[name] = orig[name] + '_' + orig[col].astype(str)\n",
    "        \n",
    "        combined = pd.concat([train[name], test[name], orig[name]], ignore_index=True)\n",
    "        combined, _ = combined.factorize()\n",
    "        train[name] = combined[:len(train)]\n",
    "        test[name] = combined[len(train):len(train) + len(test)]\n",
    "        orig[name] = combined[len(train) + len(test):]\n",
    "    \n",
    "        TE_columns.append(name)\n",
    "\n",
    "FEATURES = train.columns.tolist()\n",
    "FEATURES.remove(TARGET)"
   ]
  },
  {
   "cell_type": "code",
   "execution_count": 4,
   "id": "a14be4ce",
   "metadata": {
    "execution": {
     "iopub.execute_input": "2025-08-08T18:47:36.332332Z",
     "iopub.status.busy": "2025-08-08T18:47:36.332071Z",
     "iopub.status.idle": "2025-08-08T18:47:36.344031Z",
     "shell.execute_reply": "2025-08-08T18:47:36.343505Z"
    },
    "papermill": {
     "duration": 0.017325,
     "end_time": "2025-08-08T18:47:36.345063",
     "exception": false,
     "start_time": "2025-08-08T18:47:36.327738",
     "status": "completed"
    },
    "tags": []
   },
   "outputs": [],
   "source": [
    "def target_encode(train, valid, test, col, target=TARGET, kfold=5, smooth=20, agg='mean'):\n",
    "    train['kfold'] = ((train.index) % kfold)\n",
    "    col_name = '_'.join(col)\n",
    "    train[f'TE_{agg.upper()}_' + col_name] = 0.\n",
    "    for i in range(kfold):\n",
    "        df_tmp = train[train['kfold'] != i]\n",
    "        if agg == 'mean': mn = train[target].mean()\n",
    "        elif agg == 'median': mn = train[target].median()\n",
    "        elif agg == 'min': mn = train[target].min()\n",
    "        elif agg == 'max': mn = train[target].max()\n",
    "        elif agg == 'nunique': mn = 0\n",
    "        df_tmp = df_tmp[col + [target]].groupby(col).agg([agg, 'count']).reset_index()\n",
    "        df_tmp.columns = col + [agg, 'count']\n",
    "        if agg == 'nunique':\n",
    "            df_tmp['TE_tmp'] = df_tmp[agg] / df_tmp['count']\n",
    "        else:\n",
    "            df_tmp['TE_tmp'] = ((df_tmp[agg] * df_tmp['count']) + (mn * smooth)) / (df_tmp['count'] + smooth)\n",
    "        df_tmp_m = train[col + ['kfold', f'TE_{agg.upper()}_' + col_name]].merge(df_tmp, how='left', left_on=col, right_on=col)\n",
    "        df_tmp_m.loc[df_tmp_m['kfold'] == i, f'TE_{agg.upper()}_' + col_name] = df_tmp_m.loc[df_tmp_m['kfold'] == i, 'TE_tmp']\n",
    "        train[f'TE_{agg.upper()}_' + col_name] = df_tmp_m[f'TE_{agg.upper()}_' + col_name].fillna(mn).values\n",
    "\n",
    "    df_tmp = train[col + [target]].groupby(col).agg([agg, 'count']).reset_index()\n",
    "    if agg == 'mean': mn = train[target].mean()\n",
    "    elif agg == 'median': mn = train[target].median()\n",
    "    elif agg == 'min': mn = train[target].min()\n",
    "    elif agg == 'max': mn = train[target].max()\n",
    "    elif agg == 'nunique': mn = 0\n",
    "    df_tmp.columns = col + [agg, 'count']\n",
    "    if agg == 'nunique':\n",
    "        df_tmp['TE_tmp'] = df_tmp[agg] / df_tmp['count']\n",
    "    else:\n",
    "        df_tmp['TE_tmp'] = ((df_tmp[agg] * df_tmp['count']) + (mn * smooth)) / (df_tmp['count'] + smooth)\n",
    "    df_tmp_m = valid[col].merge(df_tmp, how='left', left_on=col, right_on=col)\n",
    "    valid[f'TE_{agg.upper()}_' + col_name] = df_tmp_m['TE_tmp'].fillna(mn).values\n",
    "    valid[f'TE_{agg.upper()}_' + col_name] = valid[f'TE_{agg.upper()}_' + col_name].astype('float32')\n",
    "\n",
    "    df_tmp_m = test[col].merge(df_tmp, how='left', left_on=col, right_on=col)\n",
    "    test[f'TE_{agg.upper()}_' + col_name] = df_tmp_m['TE_tmp'].fillna(mn).values\n",
    "    test[f'TE_{agg.upper()}_' + col_name] = test[f'TE_{agg.upper()}_' + col_name].astype('float32')\n",
    "\n",
    "    train = train.drop('kfold', axis=1)\n",
    "    train[f'TE_{agg.upper()}_' + col_name] = train[f'TE_{agg.upper()}_' + col_name].astype('float32')\n",
    "\n",
    "    return (train, valid, test)\n",
    "\n",
    "def count_encode(train, valid, test, col):\n",
    "    counts = train[col].value_counts()\n",
    "\n",
    "    train[f'CE_{col}'] = train[col].map(counts)\n",
    "    valid[f'CE_{col}'] = valid[col].map(counts).fillna(0)\n",
    "    test[f'CE_{col}'] = test[col].map(counts).fillna(0)\n",
    "    \n",
    "    return (train, valid, test)\n"
   ]
  },
  {
   "cell_type": "code",
   "execution_count": 5,
   "id": "bb8cb650",
   "metadata": {
    "execution": {
     "iopub.execute_input": "2025-08-08T18:47:36.353000Z",
     "iopub.status.busy": "2025-08-08T18:47:36.352781Z",
     "iopub.status.idle": "2025-08-08T21:48:14.416939Z",
     "shell.execute_reply": "2025-08-08T21:48:14.416275Z"
    },
    "papermill": {
     "duration": 10838.069616,
     "end_time": "2025-08-08T21:48:14.418139",
     "exception": false,
     "start_time": "2025-08-08T18:47:36.348523",
     "status": "completed"
    },
    "tags": []
   },
   "outputs": [
    {
     "name": "stdout",
     "output_type": "stream",
     "text": [
      "========== FOLD 1 ==========\n"
     ]
    },
    {
     "name": "stderr",
     "output_type": "stream",
     "text": [
      "100%|██████████| 120/120 [01:25<00:00,  1.41it/s]\n"
     ]
    },
    {
     "name": "stdout",
     "output_type": "stream",
     "text": [
      "\n",
      "--- Training XGBoost ---\n"
     ]
    },
    {
     "name": "stderr",
     "output_type": "stream",
     "text": [
      "/usr/local/lib/python3.11/dist-packages/xgboost/core.py:160: UserWarning: [18:55:02] WARNING: /workspace/src/common/error_msg.cc:58: Falling back to prediction using DMatrix due to mismatched devices. This might lead to higher memory usage and slower performance. XGBoost is running on: cuda:0, while the input data is on: cpu.\n",
      "Potential solutions:\n",
      "- Use a data structure that matches the device ordinal in the booster.\n",
      "- Set the device for booster before call to inplace_predict.\n",
      "\n",
      "This warning will only be shown once.\n",
      "\n",
      "  warnings.warn(smsg, UserWarning)\n"
     ]
    },
    {
     "name": "stdout",
     "output_type": "stream",
     "text": [
      "XGB Fold 1 AUC: 0.9764832160469413\n",
      "\n",
      "--- Training LightGBM ---\n",
      "LGB Fold 1 AUC: 0.9764404347644887\n",
      "\n",
      "--- Training CatBoost ---\n"
     ]
    },
    {
     "name": "stderr",
     "output_type": "stream",
     "text": [
      "Warning: less than 75% GPU memory available for training. Free: 7954.125 Total: 15095.0625\n",
      "Default metric period is 5 because AUC is/are not implemented for GPU\n"
     ]
    },
    {
     "name": "stdout",
     "output_type": "stream",
     "text": [
      "CAT Fold 1 AUC: 0.9759183934433782\n",
      "CV AUC XGB: 0.5190550132131598\n",
      "CV AUC LGB: 0.5190533020108118\n",
      "CV AUC CAT: 0.5190324209552851\n",
      "\n",
      "CV AUC Ensemble: 0.5190566208428664\n",
      "========== FOLD 2 ==========\n"
     ]
    },
    {
     "name": "stderr",
     "output_type": "stream",
     "text": [
      "100%|██████████| 120/120 [01:25<00:00,  1.41it/s]\n"
     ]
    },
    {
     "name": "stdout",
     "output_type": "stream",
     "text": [
      "\n",
      "--- Training XGBoost ---\n",
      "XGB Fold 2 AUC: 0.9756396490129096\n",
      "\n",
      "--- Training LightGBM ---\n",
      "LGB Fold 2 AUC: 0.9756964377605334\n",
      "\n",
      "--- Training CatBoost ---\n"
     ]
    },
    {
     "name": "stderr",
     "output_type": "stream",
     "text": [
      "Warning: less than 75% GPU memory available for training. Free: 7950.125 Total: 15095.0625\n",
      "Default metric period is 5 because AUC is/are not implemented for GPU\n"
     ]
    },
    {
     "name": "stdout",
     "output_type": "stream",
     "text": [
      "CAT Fold 2 AUC: 0.9749120704011675\n",
      "CV AUC XGB: 0.5761593432403184\n",
      "CV AUC LGB: 0.576161149477812\n",
      "CV AUC CAT: 0.5760565247387827\n",
      "\n",
      "CV AUC Ensemble: 0.5761648400386283\n",
      "========== FOLD 3 ==========\n"
     ]
    },
    {
     "name": "stderr",
     "output_type": "stream",
     "text": [
      "100%|██████████| 120/120 [01:22<00:00,  1.45it/s]\n"
     ]
    },
    {
     "name": "stdout",
     "output_type": "stream",
     "text": [
      "\n",
      "--- Training XGBoost ---\n",
      "XGB Fold 3 AUC: 0.9748944126715374\n",
      "\n",
      "--- Training LightGBM ---\n",
      "LGB Fold 3 AUC: 0.9749315048275419\n",
      "\n",
      "--- Training CatBoost ---\n"
     ]
    },
    {
     "name": "stderr",
     "output_type": "stream",
     "text": [
      "Warning: less than 75% GPU memory available for training. Free: 7950.125 Total: 15095.0625\n",
      "Default metric period is 5 because AUC is/are not implemented for GPU\n"
     ]
    },
    {
     "name": "stdout",
     "output_type": "stream",
     "text": [
      "CAT Fold 3 AUC: 0.9741643940507179\n",
      "CV AUC XGB: 0.6712338029658216\n",
      "CV AUC LGB: 0.6712401352154751\n",
      "CV AUC CAT: 0.6709911647999863\n",
      "\n",
      "CV AUC Ensemble: 0.6712424882297162\n",
      "========== FOLD 4 ==========\n"
     ]
    },
    {
     "name": "stderr",
     "output_type": "stream",
     "text": [
      "100%|██████████| 120/120 [01:23<00:00,  1.43it/s]\n"
     ]
    },
    {
     "name": "stdout",
     "output_type": "stream",
     "text": [
      "\n",
      "--- Training XGBoost ---\n",
      "XGB Fold 4 AUC: 0.9762323115951094\n",
      "\n",
      "--- Training LightGBM ---\n",
      "LGB Fold 4 AUC: 0.9761644636764796\n",
      "\n",
      "--- Training CatBoost ---\n"
     ]
    },
    {
     "name": "stderr",
     "output_type": "stream",
     "text": [
      "Warning: less than 75% GPU memory available for training. Free: 7950.125 Total: 15095.0625\n",
      "Default metric period is 5 because AUC is/are not implemented for GPU\n"
     ]
    },
    {
     "name": "stdout",
     "output_type": "stream",
     "text": [
      "CAT Fold 4 AUC: 0.9755792043734925\n",
      "CV AUC XGB: 0.8045143006378482\n",
      "CV AUC LGB: 0.8045115225334031\n",
      "CV AUC CAT: 0.8040851428571569\n",
      "\n",
      "CV AUC Ensemble: 0.804527870505478\n",
      "========== FOLD 5 ==========\n"
     ]
    },
    {
     "name": "stderr",
     "output_type": "stream",
     "text": [
      "100%|██████████| 120/120 [01:22<00:00,  1.45it/s]\n"
     ]
    },
    {
     "name": "stdout",
     "output_type": "stream",
     "text": [
      "\n",
      "--- Training XGBoost ---\n",
      "XGB Fold 5 AUC: 0.9757010877864045\n",
      "\n",
      "--- Training LightGBM ---\n",
      "LGB Fold 5 AUC: 0.9756262108110051\n",
      "\n",
      "--- Training CatBoost ---\n"
     ]
    },
    {
     "name": "stderr",
     "output_type": "stream",
     "text": [
      "Warning: less than 75% GPU memory available for training. Free: 7950.125 Total: 15095.0625\n",
      "Default metric period is 5 because AUC is/are not implemented for GPU\n"
     ]
    },
    {
     "name": "stdout",
     "output_type": "stream",
     "text": [
      "CAT Fold 5 AUC: 0.9749199563882541\n",
      "CV AUC XGB: 0.9757870329334413\n",
      "CV AUC LGB: 0.9757691003636277\n",
      "CV AUC CAT: 0.9750944251445884\n",
      "\n",
      "CV AUC Ensemble: 0.9757971117780339\n"
     ]
    }
   ],
   "source": [
    "oof = np.zeros(len(train))\n",
    "pred = np.zeros(len(test))\n",
    "\n",
    "oof_xgb = np.zeros(len(train))\n",
    "pred_xgb = np.zeros(len(test))\n",
    "\n",
    "oof_lgb = np.zeros(len(train))\n",
    "pred_lgb = np.zeros(len(test))\n",
    "\n",
    "oof_cat = np.zeros(len(train))\n",
    "pred_cat = np.zeros(len(test))\n",
    "\n",
    "skf = StratifiedKFold(n_splits=5, random_state=42, shuffle=True)\n",
    "\n",
    "for idx, (train_idx, val_idx) in enumerate(skf.split(train, train[TARGET])):\n",
    "    print(f\"========== FOLD {idx+1} ==========\")\n",
    "    X_train, X_val = train.loc[train_idx, FEATURES], train.loc[val_idx, FEATURES]\n",
    "    y_train, y_val = train.loc[train_idx, TARGET], train.loc[val_idx, TARGET]\n",
    "    X_test = test.copy()\n",
    "\n",
    "    # Аугментация и Feature Engineering (этот блок остается без изменений)\n",
    "    X_train = pd.concat([X_train, orig[FEATURES]])\n",
    "    y_train = pd.concat([y_train, orig[TARGET]])\n",
    "\n",
    "    for col in tqdm(TE_columns):\n",
    "        X_train, X_val, X_test = target_encode(pd.concat([X_train, y_train], axis=1), X_val, X_test, [col], smooth=10, agg='mean')\n",
    "        X_train = X_train.drop(TARGET, axis=1)\n",
    "        X_train, X_val, X_test = count_encode(X_train, X_val, X_test, col)\n",
    "    \n",
    "        X_train = X_train.drop(col, axis=1)\n",
    "        X_val = X_val.drop(col, axis=1)\n",
    "        X_test = X_test.drop(col, axis=1)\n",
    "        \n",
    "    # XGBoost, CatBoost и LightGBM могут работать с типом 'category' напрямую\n",
    "    # Убедимся, что типы данных правильные после всех манипуляций\n",
    "    X_train[CATS] = X_train[CATS].astype('category')\n",
    "    X_val[CATS] = X_val[CATS].astype('category')\n",
    "    X_test[CATS] = X_test[CATS].astype('category')\n",
    "\n",
    "    # --- 1. Обучение XGBoost (ваш существующий код) ---\n",
    "    print(\"\\n--- Training XGBoost ---\")\n",
    "    param_grid_xgb = {'colsample_bytree': 0.34, 'subsample': 0.89, 'reg_lambda': 4.06, 'reg_alpha': 2.91, 'max_depth': 8}\n",
    "    model_xgb = XGBClassifier(**param_grid_xgb, \n",
    "                              n_estimators=10000,\n",
    "                              objective='binary:logistic', eval_metric='auc', learning_rate=0.01,\n",
    "                              early_stopping_rounds=200, random_state=42+idx,\n",
    "                              enable_categorical=True, device='cuda', n_jobs=-1)\n",
    "    \n",
    "    model_xgb.fit(X_train, y_train, eval_set=[(X_val, y_val)], verbose=0)\n",
    "    \n",
    "    oof_xgb[val_idx] = model_xgb.predict_proba(X_val)[:, 1]\n",
    "    pred_xgb += model_xgb.predict_proba(X_test)[:, 1]\n",
    "    print(f'XGB Fold {idx + 1} AUC: {roc_auc_score(y_val, oof_xgb[val_idx])}')\n",
    "    \n",
    "    # --- 2. Обучение LightGBM ---\n",
    "    print(\"\\n--- Training LightGBM ---\")\n",
    "    params_lgb = {'objective': 'binary', 'metric': 'auc', 'learning_rate': 0.01, 'n_estimators': 10000,\n",
    "                  'lambda_l1': 0.1, 'lambda_l2': 0.1, 'num_leaves': 31, 'feature_fraction': 0.7,\n",
    "                  'bagging_fraction': 0.7, 'bagging_freq': 1, 'verbose': -1, 'n_jobs': -1, 'seed': 42+idx}\n",
    "                  \n",
    "    model_lgb = lgb.LGBMClassifier(**params_lgb)\n",
    "    \n",
    "    model_lgb.fit(X_train, y_train, eval_set=[(X_val, y_val)],\n",
    "                  callbacks=[lgb.early_stopping(200, verbose=False)])\n",
    "\n",
    "    oof_lgb[val_idx] = model_lgb.predict_proba(X_val)[:, 1]\n",
    "    pred_lgb += model_lgb.predict_proba(X_test)[:, 1]\n",
    "    print(f'LGB Fold {idx + 1} AUC: {roc_auc_score(y_val, oof_lgb[val_idx])}')\n",
    "    \n",
    "    # --- 3. Обучение CatBoost ---\n",
    "    print(\"\\n--- Training CatBoost ---\")\n",
    "    # CatBoost лучше всего передать список категориальных признаков\n",
    "    categorical_features_indices = [X_train.columns.get_loc(col) for col in CATS]\n",
    "    \n",
    "    model_cat = CatBoostClassifier(iterations=10000, learning_rate=0.02, loss_function='Logloss', eval_metric='AUC',\n",
    "                                   random_seed=42+idx, verbose=0, cat_features=CATS,\n",
    "                                   early_stopping_rounds=200, task_type=\"GPU\") # Используем GPU\n",
    "\n",
    "    model_cat.fit(X_train, y_train, eval_set=(X_val, y_val))\n",
    "    \n",
    "    oof_cat[val_idx] = model_cat.predict_proba(X_val)[:, 1]\n",
    "    pred_cat += model_cat.predict_proba(X_test)[:, 1]\n",
    "    print(f'CAT Fold {idx + 1} AUC: {roc_auc_score(y_val, oof_cat[val_idx])}')\n",
    "\n",
    "    print(f\"CV AUC XGB: {roc_auc_score(train[TARGET], oof_xgb)}\")\n",
    "    print(f\"CV AUC LGB: {roc_auc_score(train[TARGET], oof_lgb)}\")\n",
    "    print(f\"CV AUC CAT: {roc_auc_score(train[TARGET], oof_cat)}\")\n",
    "\n",
    "    # делим накопленные предсказания на количество фолдов\n",
    "    pred_xgb /= skf.n_splits\n",
    "    pred_lgb /= skf.n_splits\n",
    "    pred_cat /= skf.n_splits\n",
    "    \n",
    "    # Простое усреднение\n",
    "    ensemble_pred = (pred_xgb + pred_lgb + pred_cat) / 3\n",
    "    \n",
    "    # Также можно проверить качество ансамбля на OOF-предсказаниях\n",
    "    ensemble_oof = (oof_xgb + oof_lgb + oof_cat) / 3\n",
    "    print(f\"\\nCV AUC Ensemble: {roc_auc_score(train[TARGET], ensemble_oof)}\")\n",
    "\n",
    "    # Освобождаем память\n",
    "    del model_xgb, model_lgb, model_cat, X_train, X_val, y_train, y_val, X_test\n",
    "    gc.collect()"
   ]
  },
  {
   "cell_type": "code",
   "execution_count": 6,
   "id": "ba430505",
   "metadata": {
    "execution": {
     "iopub.execute_input": "2025-08-08T21:48:14.475672Z",
     "iopub.status.busy": "2025-08-08T21:48:14.475447Z",
     "iopub.status.idle": "2025-08-08T21:48:14.603517Z",
     "shell.execute_reply": "2025-08-08T21:48:14.602942Z"
    },
    "papermill": {
     "duration": 0.15793,
     "end_time": "2025-08-08T21:48:14.604647",
     "exception": false,
     "start_time": "2025-08-08T21:48:14.446717",
     "status": "completed"
    },
    "tags": []
   },
   "outputs": [],
   "source": [
    "submission = pd.read_csv('/kaggle/input/playground-series-s5e8/sample_submission.csv')\n",
    "submission['y'] = ensemble_pred\n",
    "submission.to_csv('xgb.csv', index=False)\n",
    "pd.DataFrame({'xgb_oof': oof}).to_csv('xgb_oof.csv', index=False)\n",
    "pd.DataFrame({'xgb_pred': pred}).to_csv('xgb_pred.csv', index=False)"
   ]
  }
 ],
 "metadata": {
  "kaggle": {
   "accelerator": "nvidiaTeslaT4",
   "dataSources": [
    {
     "databundleVersionId": 12937777,
     "sourceId": 91719,
     "sourceType": "competition"
    },
    {
     "datasetId": 5626665,
     "sourceId": 9293783,
     "sourceType": "datasetVersion"
    }
   ],
   "dockerImageVersionId": 31090,
   "isGpuEnabled": true,
   "isInternetEnabled": true,
   "language": "python",
   "sourceType": "notebook"
  },
  "kernelspec": {
   "display_name": "Python 3",
   "language": "python",
   "name": "python3"
  },
  "language_info": {
   "codemirror_mode": {
    "name": "ipython",
    "version": 3
   },
   "file_extension": ".py",
   "mimetype": "text/x-python",
   "name": "python",
   "nbconvert_exporter": "python",
   "pygments_lexer": "ipython3",
   "version": "3.11.13"
  },
  "papermill": {
   "default_parameters": {},
   "duration": 10873.096844,
   "end_time": "2025-08-08T21:48:18.476912",
   "environment_variables": {},
   "exception": null,
   "input_path": "__notebook__.ipynb",
   "output_path": "__notebook__.ipynb",
   "parameters": {},
   "start_time": "2025-08-08T18:47:05.380068",
   "version": "2.6.0"
  }
 },
 "nbformat": 4,
 "nbformat_minor": 5
}
