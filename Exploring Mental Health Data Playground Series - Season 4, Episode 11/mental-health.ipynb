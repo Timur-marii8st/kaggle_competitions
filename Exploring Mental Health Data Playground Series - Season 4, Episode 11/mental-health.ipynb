{
 "cells": [
  {
   "cell_type": "code",
   "execution_count": 1,
   "id": "a17ccf84",
   "metadata": {
    "execution": {
     "iopub.execute_input": "2025-08-11T10:30:50.343206Z",
     "iopub.status.busy": "2025-08-11T10:30:50.342844Z",
     "iopub.status.idle": "2025-08-11T10:30:54.913792Z",
     "shell.execute_reply": "2025-08-11T10:30:54.912816Z"
    },
    "papermill": {
     "duration": 4.577748,
     "end_time": "2025-08-11T10:30:54.915713",
     "exception": false,
     "start_time": "2025-08-11T10:30:50.337965",
     "status": "completed"
    },
    "tags": []
   },
   "outputs": [],
   "source": [
    "import numpy as np\n",
    "import pandas as pd\n",
    "import seaborn as sns\n",
    "\n",
    "from sklearn.model_selection import train_test_split\n",
    "from sklearn.preprocessing import LabelEncoder\n",
    "from sklearn.metrics import accuracy_score\n",
    "import optuna\n"
   ]
  },
  {
   "cell_type": "code",
   "execution_count": 2,
   "id": "4d49c4ce",
   "metadata": {
    "execution": {
     "iopub.execute_input": "2025-08-11T10:30:54.923539Z",
     "iopub.status.busy": "2025-08-11T10:30:54.923068Z",
     "iopub.status.idle": "2025-08-11T10:30:56.022680Z",
     "shell.execute_reply": "2025-08-11T10:30:56.021627Z"
    },
    "papermill": {
     "duration": 1.105449,
     "end_time": "2025-08-11T10:30:56.024648",
     "exception": false,
     "start_time": "2025-08-11T10:30:54.919199",
     "status": "completed"
    },
    "tags": []
   },
   "outputs": [],
   "source": [
    "train_df = pd.read_csv('/kaggle/input/playground-series-s4e11/train.csv')\n",
    "test_df = pd.read_csv('/kaggle/input/playground-series-s4e11/test.csv')"
   ]
  },
  {
   "cell_type": "code",
   "execution_count": 3,
   "id": "4fd65abb",
   "metadata": {
    "execution": {
     "iopub.execute_input": "2025-08-11T10:30:56.035943Z",
     "iopub.status.busy": "2025-08-11T10:30:56.035555Z",
     "iopub.status.idle": "2025-08-11T10:30:56.090601Z",
     "shell.execute_reply": "2025-08-11T10:30:56.089351Z"
    },
    "papermill": {
     "duration": 0.062598,
     "end_time": "2025-08-11T10:30:56.092369",
     "exception": false,
     "start_time": "2025-08-11T10:30:56.029771",
     "status": "completed"
    },
    "tags": []
   },
   "outputs": [
    {
     "name": "stderr",
     "output_type": "stream",
     "text": [
      "/usr/local/lib/python3.11/dist-packages/pandas/io/formats/format.py:1458: RuntimeWarning: invalid value encountered in greater\n",
      "  has_large_values = (abs_vals > 1e6).any()\n",
      "/usr/local/lib/python3.11/dist-packages/pandas/io/formats/format.py:1459: RuntimeWarning: invalid value encountered in less\n",
      "  has_small_values = ((abs_vals < 10 ** (-self.digits)) & (abs_vals > 0)).any()\n",
      "/usr/local/lib/python3.11/dist-packages/pandas/io/formats/format.py:1459: RuntimeWarning: invalid value encountered in greater\n",
      "  has_small_values = ((abs_vals < 10 ** (-self.digits)) & (abs_vals > 0)).any()\n"
     ]
    },
    {
     "data": {
      "text/html": [
       "<div>\n",
       "<style scoped>\n",
       "    .dataframe tbody tr th:only-of-type {\n",
       "        vertical-align: middle;\n",
       "    }\n",
       "\n",
       "    .dataframe tbody tr th {\n",
       "        vertical-align: top;\n",
       "    }\n",
       "\n",
       "    .dataframe thead th {\n",
       "        text-align: right;\n",
       "    }\n",
       "</style>\n",
       "<table border=\"1\" class=\"dataframe\">\n",
       "  <thead>\n",
       "    <tr style=\"text-align: right;\">\n",
       "      <th></th>\n",
       "      <th>id</th>\n",
       "      <th>Name</th>\n",
       "      <th>Gender</th>\n",
       "      <th>Age</th>\n",
       "      <th>City</th>\n",
       "      <th>Working Professional or Student</th>\n",
       "      <th>Profession</th>\n",
       "      <th>Academic Pressure</th>\n",
       "      <th>Work Pressure</th>\n",
       "      <th>CGPA</th>\n",
       "      <th>Study Satisfaction</th>\n",
       "      <th>Job Satisfaction</th>\n",
       "      <th>Sleep Duration</th>\n",
       "      <th>Dietary Habits</th>\n",
       "      <th>Degree</th>\n",
       "      <th>Have you ever had suicidal thoughts ?</th>\n",
       "      <th>Work/Study Hours</th>\n",
       "      <th>Financial Stress</th>\n",
       "      <th>Family History of Mental Illness</th>\n",
       "      <th>Depression</th>\n",
       "    </tr>\n",
       "  </thead>\n",
       "  <tbody>\n",
       "    <tr>\n",
       "      <th>0</th>\n",
       "      <td>0</td>\n",
       "      <td>Aaradhya</td>\n",
       "      <td>Female</td>\n",
       "      <td>49.0</td>\n",
       "      <td>Ludhiana</td>\n",
       "      <td>Working Professional</td>\n",
       "      <td>Chef</td>\n",
       "      <td>NaN</td>\n",
       "      <td>5.0</td>\n",
       "      <td>NaN</td>\n",
       "      <td>NaN</td>\n",
       "      <td>2.0</td>\n",
       "      <td>More than 8 hours</td>\n",
       "      <td>Healthy</td>\n",
       "      <td>BHM</td>\n",
       "      <td>No</td>\n",
       "      <td>1.0</td>\n",
       "      <td>2.0</td>\n",
       "      <td>No</td>\n",
       "      <td>0</td>\n",
       "    </tr>\n",
       "    <tr>\n",
       "      <th>1</th>\n",
       "      <td>1</td>\n",
       "      <td>Vivan</td>\n",
       "      <td>Male</td>\n",
       "      <td>26.0</td>\n",
       "      <td>Varanasi</td>\n",
       "      <td>Working Professional</td>\n",
       "      <td>Teacher</td>\n",
       "      <td>NaN</td>\n",
       "      <td>4.0</td>\n",
       "      <td>NaN</td>\n",
       "      <td>NaN</td>\n",
       "      <td>3.0</td>\n",
       "      <td>Less than 5 hours</td>\n",
       "      <td>Unhealthy</td>\n",
       "      <td>LLB</td>\n",
       "      <td>Yes</td>\n",
       "      <td>7.0</td>\n",
       "      <td>3.0</td>\n",
       "      <td>No</td>\n",
       "      <td>1</td>\n",
       "    </tr>\n",
       "    <tr>\n",
       "      <th>2</th>\n",
       "      <td>2</td>\n",
       "      <td>Yuvraj</td>\n",
       "      <td>Male</td>\n",
       "      <td>33.0</td>\n",
       "      <td>Visakhapatnam</td>\n",
       "      <td>Student</td>\n",
       "      <td>NaN</td>\n",
       "      <td>5.0</td>\n",
       "      <td>NaN</td>\n",
       "      <td>8.97</td>\n",
       "      <td>2.0</td>\n",
       "      <td>NaN</td>\n",
       "      <td>5-6 hours</td>\n",
       "      <td>Healthy</td>\n",
       "      <td>B.Pharm</td>\n",
       "      <td>Yes</td>\n",
       "      <td>3.0</td>\n",
       "      <td>1.0</td>\n",
       "      <td>No</td>\n",
       "      <td>1</td>\n",
       "    </tr>\n",
       "    <tr>\n",
       "      <th>3</th>\n",
       "      <td>3</td>\n",
       "      <td>Yuvraj</td>\n",
       "      <td>Male</td>\n",
       "      <td>22.0</td>\n",
       "      <td>Mumbai</td>\n",
       "      <td>Working Professional</td>\n",
       "      <td>Teacher</td>\n",
       "      <td>NaN</td>\n",
       "      <td>5.0</td>\n",
       "      <td>NaN</td>\n",
       "      <td>NaN</td>\n",
       "      <td>1.0</td>\n",
       "      <td>Less than 5 hours</td>\n",
       "      <td>Moderate</td>\n",
       "      <td>BBA</td>\n",
       "      <td>Yes</td>\n",
       "      <td>10.0</td>\n",
       "      <td>1.0</td>\n",
       "      <td>Yes</td>\n",
       "      <td>1</td>\n",
       "    </tr>\n",
       "    <tr>\n",
       "      <th>4</th>\n",
       "      <td>4</td>\n",
       "      <td>Rhea</td>\n",
       "      <td>Female</td>\n",
       "      <td>30.0</td>\n",
       "      <td>Kanpur</td>\n",
       "      <td>Working Professional</td>\n",
       "      <td>Business Analyst</td>\n",
       "      <td>NaN</td>\n",
       "      <td>1.0</td>\n",
       "      <td>NaN</td>\n",
       "      <td>NaN</td>\n",
       "      <td>1.0</td>\n",
       "      <td>5-6 hours</td>\n",
       "      <td>Unhealthy</td>\n",
       "      <td>BBA</td>\n",
       "      <td>Yes</td>\n",
       "      <td>9.0</td>\n",
       "      <td>4.0</td>\n",
       "      <td>Yes</td>\n",
       "      <td>0</td>\n",
       "    </tr>\n",
       "    <tr>\n",
       "      <th>...</th>\n",
       "      <td>...</td>\n",
       "      <td>...</td>\n",
       "      <td>...</td>\n",
       "      <td>...</td>\n",
       "      <td>...</td>\n",
       "      <td>...</td>\n",
       "      <td>...</td>\n",
       "      <td>...</td>\n",
       "      <td>...</td>\n",
       "      <td>...</td>\n",
       "      <td>...</td>\n",
       "      <td>...</td>\n",
       "      <td>...</td>\n",
       "      <td>...</td>\n",
       "      <td>...</td>\n",
       "      <td>...</td>\n",
       "      <td>...</td>\n",
       "      <td>...</td>\n",
       "      <td>...</td>\n",
       "      <td>...</td>\n",
       "    </tr>\n",
       "    <tr>\n",
       "      <th>140695</th>\n",
       "      <td>140695</td>\n",
       "      <td>Vidya</td>\n",
       "      <td>Female</td>\n",
       "      <td>18.0</td>\n",
       "      <td>Ahmedabad</td>\n",
       "      <td>Working Professional</td>\n",
       "      <td>NaN</td>\n",
       "      <td>NaN</td>\n",
       "      <td>5.0</td>\n",
       "      <td>NaN</td>\n",
       "      <td>NaN</td>\n",
       "      <td>4.0</td>\n",
       "      <td>5-6 hours</td>\n",
       "      <td>Unhealthy</td>\n",
       "      <td>Class 12</td>\n",
       "      <td>No</td>\n",
       "      <td>2.0</td>\n",
       "      <td>4.0</td>\n",
       "      <td>Yes</td>\n",
       "      <td>1</td>\n",
       "    </tr>\n",
       "    <tr>\n",
       "      <th>140696</th>\n",
       "      <td>140696</td>\n",
       "      <td>Lata</td>\n",
       "      <td>Female</td>\n",
       "      <td>41.0</td>\n",
       "      <td>Hyderabad</td>\n",
       "      <td>Working Professional</td>\n",
       "      <td>Content Writer</td>\n",
       "      <td>NaN</td>\n",
       "      <td>5.0</td>\n",
       "      <td>NaN</td>\n",
       "      <td>NaN</td>\n",
       "      <td>4.0</td>\n",
       "      <td>7-8 hours</td>\n",
       "      <td>Moderate</td>\n",
       "      <td>B.Tech</td>\n",
       "      <td>Yes</td>\n",
       "      <td>6.0</td>\n",
       "      <td>5.0</td>\n",
       "      <td>Yes</td>\n",
       "      <td>0</td>\n",
       "    </tr>\n",
       "    <tr>\n",
       "      <th>140697</th>\n",
       "      <td>140697</td>\n",
       "      <td>Aanchal</td>\n",
       "      <td>Female</td>\n",
       "      <td>24.0</td>\n",
       "      <td>Kolkata</td>\n",
       "      <td>Working Professional</td>\n",
       "      <td>Marketing Manager</td>\n",
       "      <td>NaN</td>\n",
       "      <td>3.0</td>\n",
       "      <td>NaN</td>\n",
       "      <td>NaN</td>\n",
       "      <td>1.0</td>\n",
       "      <td>More than 8 hours</td>\n",
       "      <td>Moderate</td>\n",
       "      <td>B.Com</td>\n",
       "      <td>No</td>\n",
       "      <td>4.0</td>\n",
       "      <td>4.0</td>\n",
       "      <td>No</td>\n",
       "      <td>0</td>\n",
       "    </tr>\n",
       "    <tr>\n",
       "      <th>140698</th>\n",
       "      <td>140698</td>\n",
       "      <td>Prachi</td>\n",
       "      <td>Female</td>\n",
       "      <td>49.0</td>\n",
       "      <td>Srinagar</td>\n",
       "      <td>Working Professional</td>\n",
       "      <td>Plumber</td>\n",
       "      <td>NaN</td>\n",
       "      <td>5.0</td>\n",
       "      <td>NaN</td>\n",
       "      <td>NaN</td>\n",
       "      <td>2.0</td>\n",
       "      <td>5-6 hours</td>\n",
       "      <td>Moderate</td>\n",
       "      <td>ME</td>\n",
       "      <td>Yes</td>\n",
       "      <td>10.0</td>\n",
       "      <td>1.0</td>\n",
       "      <td>No</td>\n",
       "      <td>0</td>\n",
       "    </tr>\n",
       "    <tr>\n",
       "      <th>140699</th>\n",
       "      <td>140699</td>\n",
       "      <td>Sai</td>\n",
       "      <td>Male</td>\n",
       "      <td>27.0</td>\n",
       "      <td>Patna</td>\n",
       "      <td>Student</td>\n",
       "      <td>NaN</td>\n",
       "      <td>4.0</td>\n",
       "      <td>NaN</td>\n",
       "      <td>9.24</td>\n",
       "      <td>1.0</td>\n",
       "      <td>NaN</td>\n",
       "      <td>Less than 5 hours</td>\n",
       "      <td>Healthy</td>\n",
       "      <td>BCA</td>\n",
       "      <td>Yes</td>\n",
       "      <td>2.0</td>\n",
       "      <td>3.0</td>\n",
       "      <td>Yes</td>\n",
       "      <td>1</td>\n",
       "    </tr>\n",
       "  </tbody>\n",
       "</table>\n",
       "<p>140700 rows × 20 columns</p>\n",
       "</div>"
      ],
      "text/plain": [
       "            id      Name  Gender   Age           City  \\\n",
       "0            0  Aaradhya  Female  49.0       Ludhiana   \n",
       "1            1     Vivan    Male  26.0       Varanasi   \n",
       "2            2    Yuvraj    Male  33.0  Visakhapatnam   \n",
       "3            3    Yuvraj    Male  22.0         Mumbai   \n",
       "4            4      Rhea  Female  30.0         Kanpur   \n",
       "...        ...       ...     ...   ...            ...   \n",
       "140695  140695     Vidya  Female  18.0      Ahmedabad   \n",
       "140696  140696      Lata  Female  41.0      Hyderabad   \n",
       "140697  140697   Aanchal  Female  24.0        Kolkata   \n",
       "140698  140698    Prachi  Female  49.0       Srinagar   \n",
       "140699  140699       Sai    Male  27.0          Patna   \n",
       "\n",
       "       Working Professional or Student         Profession  Academic Pressure  \\\n",
       "0                 Working Professional               Chef                NaN   \n",
       "1                 Working Professional            Teacher                NaN   \n",
       "2                              Student                NaN                5.0   \n",
       "3                 Working Professional            Teacher                NaN   \n",
       "4                 Working Professional   Business Analyst                NaN   \n",
       "...                                ...                ...                ...   \n",
       "140695            Working Professional                NaN                NaN   \n",
       "140696            Working Professional     Content Writer                NaN   \n",
       "140697            Working Professional  Marketing Manager                NaN   \n",
       "140698            Working Professional            Plumber                NaN   \n",
       "140699                         Student                NaN                4.0   \n",
       "\n",
       "        Work Pressure  CGPA  Study Satisfaction  Job Satisfaction  \\\n",
       "0                 5.0   NaN                 NaN               2.0   \n",
       "1                 4.0   NaN                 NaN               3.0   \n",
       "2                 NaN  8.97                 2.0               NaN   \n",
       "3                 5.0   NaN                 NaN               1.0   \n",
       "4                 1.0   NaN                 NaN               1.0   \n",
       "...               ...   ...                 ...               ...   \n",
       "140695            5.0   NaN                 NaN               4.0   \n",
       "140696            5.0   NaN                 NaN               4.0   \n",
       "140697            3.0   NaN                 NaN               1.0   \n",
       "140698            5.0   NaN                 NaN               2.0   \n",
       "140699            NaN  9.24                 1.0               NaN   \n",
       "\n",
       "           Sleep Duration Dietary Habits    Degree  \\\n",
       "0       More than 8 hours        Healthy       BHM   \n",
       "1       Less than 5 hours      Unhealthy       LLB   \n",
       "2               5-6 hours        Healthy   B.Pharm   \n",
       "3       Less than 5 hours       Moderate       BBA   \n",
       "4               5-6 hours      Unhealthy       BBA   \n",
       "...                   ...            ...       ...   \n",
       "140695          5-6 hours      Unhealthy  Class 12   \n",
       "140696          7-8 hours       Moderate    B.Tech   \n",
       "140697  More than 8 hours       Moderate     B.Com   \n",
       "140698          5-6 hours       Moderate        ME   \n",
       "140699  Less than 5 hours        Healthy       BCA   \n",
       "\n",
       "       Have you ever had suicidal thoughts ?  Work/Study Hours  \\\n",
       "0                                         No               1.0   \n",
       "1                                        Yes               7.0   \n",
       "2                                        Yes               3.0   \n",
       "3                                        Yes              10.0   \n",
       "4                                        Yes               9.0   \n",
       "...                                      ...               ...   \n",
       "140695                                    No               2.0   \n",
       "140696                                   Yes               6.0   \n",
       "140697                                    No               4.0   \n",
       "140698                                   Yes              10.0   \n",
       "140699                                   Yes               2.0   \n",
       "\n",
       "        Financial Stress Family History of Mental Illness  Depression  \n",
       "0                    2.0                               No           0  \n",
       "1                    3.0                               No           1  \n",
       "2                    1.0                               No           1  \n",
       "3                    1.0                              Yes           1  \n",
       "4                    4.0                              Yes           0  \n",
       "...                  ...                              ...         ...  \n",
       "140695               4.0                              Yes           1  \n",
       "140696               5.0                              Yes           0  \n",
       "140697               4.0                               No           0  \n",
       "140698               1.0                               No           0  \n",
       "140699               3.0                              Yes           1  \n",
       "\n",
       "[140700 rows x 20 columns]"
      ]
     },
     "execution_count": 3,
     "metadata": {},
     "output_type": "execute_result"
    }
   ],
   "source": [
    "train_df"
   ]
  },
  {
   "cell_type": "code",
   "execution_count": 4,
   "id": "428ff303",
   "metadata": {
    "execution": {
     "iopub.execute_input": "2025-08-11T10:30:56.102942Z",
     "iopub.status.busy": "2025-08-11T10:30:56.102467Z",
     "iopub.status.idle": "2025-08-11T10:30:56.140720Z",
     "shell.execute_reply": "2025-08-11T10:30:56.139808Z"
    },
    "papermill": {
     "duration": 0.045384,
     "end_time": "2025-08-11T10:30:56.142924",
     "exception": false,
     "start_time": "2025-08-11T10:30:56.097540",
     "status": "completed"
    },
    "tags": []
   },
   "outputs": [],
   "source": [
    "train_df.drop(['Name', 'id'], axis=1, inplace=True)\n",
    "test_df.drop(['Name'], axis=1, inplace=True)\n"
   ]
  },
  {
   "cell_type": "code",
   "execution_count": 5,
   "id": "9f165d10",
   "metadata": {
    "execution": {
     "iopub.execute_input": "2025-08-11T10:30:56.156687Z",
     "iopub.status.busy": "2025-08-11T10:30:56.156319Z",
     "iopub.status.idle": "2025-08-11T10:30:56.594796Z",
     "shell.execute_reply": "2025-08-11T10:30:56.593747Z"
    },
    "papermill": {
     "duration": 0.447219,
     "end_time": "2025-08-11T10:30:56.596469",
     "exception": false,
     "start_time": "2025-08-11T10:30:56.149250",
     "status": "completed"
    },
    "tags": []
   },
   "outputs": [
    {
     "name": "stderr",
     "output_type": "stream",
     "text": [
      "/usr/local/lib/python3.11/dist-packages/seaborn/_oldcore.py:1119: FutureWarning: use_inf_as_na option is deprecated and will be removed in a future version. Convert inf values to NaN before operating instead.\n",
      "  with pd.option_context('mode.use_inf_as_na', True):\n"
     ]
    },
    {
     "data": {
      "text/plain": [
       "<seaborn.axisgrid.FacetGrid at 0x7b978fe73c10>"
      ]
     },
     "execution_count": 5,
     "metadata": {},
     "output_type": "execute_result"
    },
    {
     "data": {
      "image/png": "[encoded data removed]",
      "text/plain": [
       "<Figure size 500x500 with 1 Axes>"
      ]
     },
     "metadata": {},
     "output_type": "display_data"
    }
   ],
   "source": [
    "sns.displot(train_df['Depression'])"
   ]
  },
  {
   "cell_type": "code",
   "execution_count": 6,
   "id": "afcd6377",
   "metadata": {
    "execution": {
     "iopub.execute_input": "2025-08-11T10:30:56.607899Z",
     "iopub.status.busy": "2025-08-11T10:30:56.607014Z",
     "iopub.status.idle": "2025-08-11T10:30:56.761714Z",
     "shell.execute_reply": "2025-08-11T10:30:56.760799Z"
    },
    "papermill": {
     "duration": 0.161385,
     "end_time": "2025-08-11T10:30:56.763406",
     "exception": false,
     "start_time": "2025-08-11T10:30:56.602021",
     "status": "completed"
    },
    "tags": []
   },
   "outputs": [],
   "source": [
    "df_major = train_df[train_df['Age'].isin([49.0, 56.0, 38.0, 53.0])]\n",
    "df_rest = train_df[~train_df['Age'].isin([49.0, 56.0, 38.0, 53.0])]\n",
    "\n",
    "df_major_downsampled = (\n",
    "    df_major.groupby('Age')\n",
    "    .sample(n=4000, random_state=42)\n",
    ")\n",
    "\n",
    "train_df = pd.concat([df_major_downsampled, df_rest]).sample(frac=1, random_state=42)"
   ]
  },
  {
   "cell_type": "code",
   "execution_count": 7,
   "id": "46dfe9ef",
   "metadata": {
    "execution": {
     "iopub.execute_input": "2025-08-11T10:30:56.774735Z",
     "iopub.status.busy": "2025-08-11T10:30:56.773784Z",
     "iopub.status.idle": "2025-08-11T10:30:56.797005Z",
     "shell.execute_reply": "2025-08-11T10:30:56.796061Z"
    },
    "papermill": {
     "duration": 0.031184,
     "end_time": "2025-08-11T10:30:56.798868",
     "exception": false,
     "start_time": "2025-08-11T10:30:56.767684",
     "status": "completed"
    },
    "tags": []
   },
   "outputs": [],
   "source": [
    "train_df['Age'] = np.log1p(train_df['Age'])\n",
    "test_df['Age'] = np.log1p(test_df['Age'])"
   ]
  },
  {
   "cell_type": "code",
   "execution_count": 8,
   "id": "14a8ee0e",
   "metadata": {
    "execution": {
     "iopub.execute_input": "2025-08-11T10:30:56.814993Z",
     "iopub.status.busy": "2025-08-11T10:30:56.813714Z",
     "iopub.status.idle": "2025-08-11T10:30:56.941996Z",
     "shell.execute_reply": "2025-08-11T10:30:56.941004Z"
    },
    "papermill": {
     "duration": 0.138455,
     "end_time": "2025-08-11T10:30:56.944330",
     "exception": false,
     "start_time": "2025-08-11T10:30:56.805875",
     "status": "completed"
    },
    "tags": []
   },
   "outputs": [],
   "source": [
    "df_major = train_df[train_df['Gender'].isin(['Male'])]\n",
    "df_rest = train_df[~train_df['Gender'].isin(['Male'])]\n",
    "\n",
    "df_major_downsampled = (\n",
    "    df_major.groupby('Gender')\n",
    "    .sample(n=67000, random_state=42)\n",
    ")\n",
    "\n",
    "train_df = pd.concat([df_major_downsampled, df_rest]).sample(frac=1, random_state=42)"
   ]
  },
  {
   "cell_type": "code",
   "execution_count": 9,
   "id": "f249a6de",
   "metadata": {
    "execution": {
     "iopub.execute_input": "2025-08-11T10:30:56.959781Z",
     "iopub.status.busy": "2025-08-11T10:30:56.959113Z",
     "iopub.status.idle": "2025-08-11T10:30:57.104096Z",
     "shell.execute_reply": "2025-08-11T10:30:57.103119Z"
    },
    "papermill": {
     "duration": 0.154548,
     "end_time": "2025-08-11T10:30:57.105900",
     "exception": false,
     "start_time": "2025-08-11T10:30:56.951352",
     "status": "completed"
    },
    "tags": []
   },
   "outputs": [],
   "source": [
    "nan_columns = train_df.columns[train_df.isna().any()].tolist()\n",
    "\n",
    "cat_features = ['Gender', 'Working Professional or Student', 'Profession',\n",
    "                'Sleep Duration', 'Dietary Habits', 'Degree','Have you ever had suicidal thoughts ?',\n",
    "                'Family History of Mental Illness', 'City']\n",
    "\n",
    "nan_cat_features = [x for x in nan_columns if x in cat_features]\n",
    "\n",
    "train_df[nan_cat_features] = train_df[nan_cat_features].astype(str).fillna('nan')\n",
    "test_df[nan_cat_features] = test_df[nan_cat_features].astype(str).fillna('nan')\n"
   ]
  },
  {
   "cell_type": "code",
   "execution_count": 10,
   "id": "bcd9174d",
   "metadata": {
    "execution": {
     "iopub.execute_input": "2025-08-11T10:30:57.115666Z",
     "iopub.status.busy": "2025-08-11T10:30:57.114801Z",
     "iopub.status.idle": "2025-08-11T10:30:57.193743Z",
     "shell.execute_reply": "2025-08-11T10:30:57.192663Z"
    },
    "papermill": {
     "duration": 0.085491,
     "end_time": "2025-08-11T10:30:57.195484",
     "exception": false,
     "start_time": "2025-08-11T10:30:57.109993",
     "status": "completed"
    },
    "tags": []
   },
   "outputs": [],
   "source": [
    "y = train_df['Depression']\n",
    "X = train_df.drop(['Depression'], axis=1)\n",
    "\n",
    "test_ids = test_df['id']\n",
    "test_data = test_df.drop(['id'], axis=1)\n",
    "\n",
    "X_train, X_valid, y_train, y_valid = train_test_split(X, y, test_size=0.2, random_state=42)\n",
    "\n"
   ]
  },
  {
   "cell_type": "code",
   "execution_count": 11,
   "id": "e40b158a",
   "metadata": {
    "execution": {
     "iopub.execute_input": "2025-08-11T10:30:57.205306Z",
     "iopub.status.busy": "2025-08-11T10:30:57.204633Z",
     "iopub.status.idle": "2025-08-11T10:33:17.515369Z",
     "shell.execute_reply": "2025-08-11T10:33:17.514196Z"
    },
    "papermill": {
     "duration": 140.317356,
     "end_time": "2025-08-11T10:33:17.517157",
     "exception": false,
     "start_time": "2025-08-11T10:30:57.199801",
     "status": "completed"
    },
    "tags": []
   },
   "outputs": [
    {
     "name": "stdout",
     "output_type": "stream",
     "text": [
      "0:\tlearn: 0.9237141\ttotal: 208ms\tremaining: 3m 48s\n",
      "100:\tlearn: 0.9352914\ttotal: 14.2s\tremaining: 2m 20s\n",
      "200:\tlearn: 0.9382595\ttotal: 27.5s\tremaining: 2m 2s\n",
      "300:\tlearn: 0.9395571\ttotal: 40.4s\tremaining: 1m 47s\n",
      "400:\tlearn: 0.9405672\ttotal: 52.5s\tremaining: 1m 31s\n",
      "500:\tlearn: 0.9412898\ttotal: 1m 4s\tremaining: 1m 17s\n",
      "600:\tlearn: 0.9422455\ttotal: 1m 16s\tremaining: 1m 3s\n",
      "700:\tlearn: 0.9429448\ttotal: 1m 28s\tremaining: 50.4s\n",
      "800:\tlearn: 0.9436053\ttotal: 1m 41s\tremaining: 37.7s\n",
      "900:\tlearn: 0.9442968\ttotal: 1m 53s\tremaining: 25s\n",
      "1000:\tlearn: 0.9450738\ttotal: 2m 5s\tremaining: 12.4s\n",
      "1099:\tlearn: 0.9457964\ttotal: 2m 18s\tremaining: 0us\n"
     ]
    },
    {
     "data": {
      "text/plain": [
       "<catboost.core.CatBoostClassifier at 0x7b97900c0490>"
      ]
     },
     "execution_count": 11,
     "metadata": {},
     "output_type": "execute_result"
    }
   ],
   "source": [
    "from catboost import CatBoostClassifier, Pool\n",
    "\n",
    "model = CatBoostClassifier(\n",
    "    iterations=1100,\n",
    "    learning_rate=0.02,\n",
    "    depth=8,\n",
    "    loss_function='Logloss',\n",
    "    eval_metric='Accuracy',\n",
    "    cat_features=cat_features,\n",
    "    random_seed=42,\n",
    "    verbose=100,\n",
    "    early_stopping_rounds=50\n",
    ")\n",
    "\n",
    "model.fit(X, y, cat_features=cat_features)"
   ]
  },
  {
   "cell_type": "code",
   "execution_count": 12,
   "id": "371c7639",
   "metadata": {
    "execution": {
     "iopub.execute_input": "2025-08-11T10:33:17.528146Z",
     "iopub.status.busy": "2025-08-11T10:33:17.527830Z",
     "iopub.status.idle": "2025-08-11T10:33:17.676967Z",
     "shell.execute_reply": "2025-08-11T10:33:17.675985Z"
    },
    "papermill": {
     "duration": 0.15641,
     "end_time": "2025-08-11T10:33:17.678522",
     "exception": false,
     "start_time": "2025-08-11T10:33:17.522112",
     "status": "completed"
    },
    "tags": []
   },
   "outputs": [
    {
     "name": "stdout",
     "output_type": "stream",
     "text": [
      "📉 Accuracy: 0.9431235431235431\n"
     ]
    }
   ],
   "source": [
    "preds = model.predict(X_valid)\n",
    "\n",
    "accuracy = accuracy_score(y_valid, preds)\n",
    "\n",
    "print(f\"📉 Accuracy: {accuracy}\")"
   ]
  },
  {
   "cell_type": "code",
   "execution_count": 13,
   "id": "69de1ae0",
   "metadata": {
    "execution": {
     "iopub.execute_input": "2025-08-11T10:33:17.689978Z",
     "iopub.status.busy": "2025-08-11T10:33:17.689004Z",
     "iopub.status.idle": "2025-08-11T10:33:18.248576Z",
     "shell.execute_reply": "2025-08-11T10:33:18.247466Z"
    },
    "papermill": {
     "duration": 0.567108,
     "end_time": "2025-08-11T10:33:18.250513",
     "exception": false,
     "start_time": "2025-08-11T10:33:17.683405",
     "status": "completed"
    },
    "tags": []
   },
   "outputs": [],
   "source": [
    "test_pool = Pool(\n",
    "    data=test_data,\n",
    "    cat_features=cat_features\n",
    ")\n",
    "\n",
    "test_preds = model.predict(test_pool)\n",
    "\n",
    "\n",
    "submission = pd.DataFrame({'id': test_ids, 'Depression': test_preds})\n",
    "submission.to_csv('submission.csv', index=False)"
   ]
  }
 ],
 "metadata": {
  "kaggle": {
   "accelerator": "none",
   "dataSources": [
    {
     "databundleVersionId": 10008389,
     "sourceId": 84895,
     "sourceType": "competition"
    }
   ],
   "dockerImageVersionId": 31012,
   "isGpuEnabled": false,
   "isInternetEnabled": true,
   "language": "python",
   "sourceType": "notebook"
  },
  "kernelspec": {
   "display_name": "Python 3",
   "language": "python",
   "name": "python3"
  },
  "language_info": {
   "codemirror_mode": {
    "name": "ipython",
    "version": 3
   },
   "file_extension": ".py",
   "mimetype": "text/x-python",
   "name": "python",
   "nbconvert_exporter": "python",
   "pygments_lexer": "ipython3",
   "version": "3.11.11"
  },
  "papermill": {
   "default_parameters": {},
   "duration": 154.263437,
   "end_time": "2025-08-11T10:33:19.078442",
   "environment_variables": {},
   "exception": null,
   "input_path": "__notebook__.ipynb",
   "output_path": "__notebook__.ipynb",
   "parameters": {},
   "start_time": "2025-08-11T10:30:44.815005",
   "version": "2.6.0"
  }
 },
 "nbformat": 4,
 "nbformat_minor": 5
}
