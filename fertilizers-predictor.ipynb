{
 "cells": [
  {
   "cell_type": "code",
   "execution_count": 1,
   "id": "2fb09fcd",
   "metadata": {
    "_cell_guid": "b1076dfc-b9ad-4769-8c92-a6c4dae69d19",
    "_uuid": "8f2839f25d086af736a60e9eeb907d3b93b6e0e5",
    "execution": {
     "iopub.execute_input": "2025-06-03T15:04:13.894736Z",
     "iopub.status.busy": "2025-06-03T15:04:13.893730Z",
     "iopub.status.idle": "2025-06-03T15:04:19.316153Z",
     "shell.execute_reply": "2025-06-03T15:04:19.315050Z"
    },
    "papermill": {
     "duration": 5.428789,
     "end_time": "2025-06-03T15:04:19.318078",
     "exception": false,
     "start_time": "2025-06-03T15:04:13.889289",
     "status": "completed"
    },
    "tags": []
   },
   "outputs": [],
   "source": [
    "import pandas as pd\n",
    "import seaborn as sns\n",
    "from sklearn.model_selection import train_test_split\n",
    "from xgboost import XGBClassifier\n",
    "import optuna \n",
    "from sklearn.preprocessing import LabelEncoder\n",
    "from sklearn.metrics import accuracy_score, log_loss, f1_score\n",
    "import numpy as np"
   ]
  },
  {
   "cell_type": "code",
   "execution_count": 2,
   "id": "aa694776",
   "metadata": {
    "execution": {
     "iopub.execute_input": "2025-06-03T15:04:19.326712Z",
     "iopub.status.busy": "2025-06-03T15:04:19.325702Z",
     "iopub.status.idle": "2025-06-03T15:04:20.882457Z",
     "shell.execute_reply": "2025-06-03T15:04:20.881302Z"
    },
    "papermill": {
     "duration": 1.562784,
     "end_time": "2025-06-03T15:04:20.884295",
     "exception": false,
     "start_time": "2025-06-03T15:04:19.321511",
     "status": "completed"
    },
    "tags": []
   },
   "outputs": [],
   "source": [
    "train_df = pd.read_csv('/kaggle/input/playground-series-s5e6/train.csv')\n",
    "test_df = pd.read_csv('/kaggle/input/playground-series-s5e6/test.csv')\n",
    "\n",
    "test_ids = test_df['id'].copy()"
   ]
  },
  {
   "cell_type": "code",
   "execution_count": 3,
   "id": "09119850",
   "metadata": {
    "execution": {
     "iopub.execute_input": "2025-06-03T15:04:20.891025Z",
     "iopub.status.busy": "2025-06-03T15:04:20.890709Z",
     "iopub.status.idle": "2025-06-03T15:04:20.920450Z",
     "shell.execute_reply": "2025-06-03T15:04:20.919136Z"
    },
    "papermill": {
     "duration": 0.035154,
     "end_time": "2025-06-03T15:04:20.922306",
     "exception": false,
     "start_time": "2025-06-03T15:04:20.887152",
     "status": "completed"
    },
    "tags": []
   },
   "outputs": [
    {
     "data": {
      "text/html": [
       "<div>\n",
       "<style scoped>\n",
       "    .dataframe tbody tr th:only-of-type {\n",
       "        vertical-align: middle;\n",
       "    }\n",
       "\n",
       "    .dataframe tbody tr th {\n",
       "        vertical-align: top;\n",
       "    }\n",
       "\n",
       "    .dataframe thead th {\n",
       "        text-align: right;\n",
       "    }\n",
       "</style>\n",
       "<table border=\"1\" class=\"dataframe\">\n",
       "  <thead>\n",
       "    <tr style=\"text-align: right;\">\n",
       "      <th></th>\n",
       "      <th>id</th>\n",
       "      <th>Temparature</th>\n",
       "      <th>Humidity</th>\n",
       "      <th>Moisture</th>\n",
       "      <th>Soil Type</th>\n",
       "      <th>Crop Type</th>\n",
       "      <th>Nitrogen</th>\n",
       "      <th>Potassium</th>\n",
       "      <th>Phosphorous</th>\n",
       "      <th>Fertilizer Name</th>\n",
       "    </tr>\n",
       "  </thead>\n",
       "  <tbody>\n",
       "    <tr>\n",
       "      <th>0</th>\n",
       "      <td>0</td>\n",
       "      <td>37</td>\n",
       "      <td>70</td>\n",
       "      <td>36</td>\n",
       "      <td>Clayey</td>\n",
       "      <td>Sugarcane</td>\n",
       "      <td>36</td>\n",
       "      <td>4</td>\n",
       "      <td>5</td>\n",
       "      <td>28-28</td>\n",
       "    </tr>\n",
       "    <tr>\n",
       "      <th>1</th>\n",
       "      <td>1</td>\n",
       "      <td>27</td>\n",
       "      <td>69</td>\n",
       "      <td>65</td>\n",
       "      <td>Sandy</td>\n",
       "      <td>Millets</td>\n",
       "      <td>30</td>\n",
       "      <td>6</td>\n",
       "      <td>18</td>\n",
       "      <td>28-28</td>\n",
       "    </tr>\n",
       "    <tr>\n",
       "      <th>2</th>\n",
       "      <td>2</td>\n",
       "      <td>29</td>\n",
       "      <td>63</td>\n",
       "      <td>32</td>\n",
       "      <td>Sandy</td>\n",
       "      <td>Millets</td>\n",
       "      <td>24</td>\n",
       "      <td>12</td>\n",
       "      <td>16</td>\n",
       "      <td>17-17-17</td>\n",
       "    </tr>\n",
       "    <tr>\n",
       "      <th>3</th>\n",
       "      <td>3</td>\n",
       "      <td>35</td>\n",
       "      <td>62</td>\n",
       "      <td>54</td>\n",
       "      <td>Sandy</td>\n",
       "      <td>Barley</td>\n",
       "      <td>39</td>\n",
       "      <td>12</td>\n",
       "      <td>4</td>\n",
       "      <td>10-26-26</td>\n",
       "    </tr>\n",
       "    <tr>\n",
       "      <th>4</th>\n",
       "      <td>4</td>\n",
       "      <td>35</td>\n",
       "      <td>58</td>\n",
       "      <td>43</td>\n",
       "      <td>Red</td>\n",
       "      <td>Paddy</td>\n",
       "      <td>37</td>\n",
       "      <td>2</td>\n",
       "      <td>16</td>\n",
       "      <td>DAP</td>\n",
       "    </tr>\n",
       "    <tr>\n",
       "      <th>...</th>\n",
       "      <td>...</td>\n",
       "      <td>...</td>\n",
       "      <td>...</td>\n",
       "      <td>...</td>\n",
       "      <td>...</td>\n",
       "      <td>...</td>\n",
       "      <td>...</td>\n",
       "      <td>...</td>\n",
       "      <td>...</td>\n",
       "      <td>...</td>\n",
       "    </tr>\n",
       "    <tr>\n",
       "      <th>749995</th>\n",
       "      <td>749995</td>\n",
       "      <td>25</td>\n",
       "      <td>69</td>\n",
       "      <td>30</td>\n",
       "      <td>Clayey</td>\n",
       "      <td>Maize</td>\n",
       "      <td>8</td>\n",
       "      <td>16</td>\n",
       "      <td>6</td>\n",
       "      <td>28-28</td>\n",
       "    </tr>\n",
       "    <tr>\n",
       "      <th>749996</th>\n",
       "      <td>749996</td>\n",
       "      <td>37</td>\n",
       "      <td>64</td>\n",
       "      <td>58</td>\n",
       "      <td>Loamy</td>\n",
       "      <td>Sugarcane</td>\n",
       "      <td>38</td>\n",
       "      <td>8</td>\n",
       "      <td>20</td>\n",
       "      <td>17-17-17</td>\n",
       "    </tr>\n",
       "    <tr>\n",
       "      <th>749997</th>\n",
       "      <td>749997</td>\n",
       "      <td>35</td>\n",
       "      <td>68</td>\n",
       "      <td>59</td>\n",
       "      <td>Sandy</td>\n",
       "      <td>Ground Nuts</td>\n",
       "      <td>6</td>\n",
       "      <td>11</td>\n",
       "      <td>29</td>\n",
       "      <td>10-26-26</td>\n",
       "    </tr>\n",
       "    <tr>\n",
       "      <th>749998</th>\n",
       "      <td>749998</td>\n",
       "      <td>31</td>\n",
       "      <td>68</td>\n",
       "      <td>29</td>\n",
       "      <td>Red</td>\n",
       "      <td>Cotton</td>\n",
       "      <td>9</td>\n",
       "      <td>11</td>\n",
       "      <td>12</td>\n",
       "      <td>20-20</td>\n",
       "    </tr>\n",
       "    <tr>\n",
       "      <th>749999</th>\n",
       "      <td>749999</td>\n",
       "      <td>33</td>\n",
       "      <td>55</td>\n",
       "      <td>29</td>\n",
       "      <td>Loamy</td>\n",
       "      <td>Cotton</td>\n",
       "      <td>4</td>\n",
       "      <td>10</td>\n",
       "      <td>9</td>\n",
       "      <td>Urea</td>\n",
       "    </tr>\n",
       "  </tbody>\n",
       "</table>\n",
       "<p>750000 rows × 10 columns</p>\n",
       "</div>"
      ],
      "text/plain": [
       "            id  Temparature  Humidity  Moisture Soil Type    Crop Type  \\\n",
       "0            0           37        70        36    Clayey    Sugarcane   \n",
       "1            1           27        69        65     Sandy      Millets   \n",
       "2            2           29        63        32     Sandy      Millets   \n",
       "3            3           35        62        54     Sandy       Barley   \n",
       "4            4           35        58        43       Red        Paddy   \n",
       "...        ...          ...       ...       ...       ...          ...   \n",
       "749995  749995           25        69        30    Clayey        Maize   \n",
       "749996  749996           37        64        58     Loamy    Sugarcane   \n",
       "749997  749997           35        68        59     Sandy  Ground Nuts   \n",
       "749998  749998           31        68        29       Red       Cotton   \n",
       "749999  749999           33        55        29     Loamy       Cotton   \n",
       "\n",
       "        Nitrogen  Potassium  Phosphorous Fertilizer Name  \n",
       "0             36          4            5           28-28  \n",
       "1             30          6           18           28-28  \n",
       "2             24         12           16        17-17-17  \n",
       "3             39         12            4        10-26-26  \n",
       "4             37          2           16             DAP  \n",
       "...          ...        ...          ...             ...  \n",
       "749995         8         16            6           28-28  \n",
       "749996        38          8           20        17-17-17  \n",
       "749997         6         11           29        10-26-26  \n",
       "749998         9         11           12           20-20  \n",
       "749999         4         10            9            Urea  \n",
       "\n",
       "[750000 rows x 10 columns]"
      ]
     },
     "execution_count": 3,
     "metadata": {},
     "output_type": "execute_result"
    }
   ],
   "source": [
    "train_df"
   ]
  },
  {
   "cell_type": "code",
   "execution_count": 4,
   "id": "4095d9ba",
   "metadata": {
    "execution": {
     "iopub.execute_input": "2025-06-03T15:04:20.930103Z",
     "iopub.status.busy": "2025-06-03T15:04:20.929626Z",
     "iopub.status.idle": "2025-06-03T15:04:22.312275Z",
     "shell.execute_reply": "2025-06-03T15:04:22.311300Z"
    },
    "papermill": {
     "duration": 1.388347,
     "end_time": "2025-06-03T15:04:22.313929",
     "exception": false,
     "start_time": "2025-06-03T15:04:20.925582",
     "status": "completed"
    },
    "tags": []
   },
   "outputs": [
    {
     "name": "stderr",
     "output_type": "stream",
     "text": [
      "/usr/local/lib/python3.11/dist-packages/seaborn/_oldcore.py:1119: FutureWarning: use_inf_as_na option is deprecated and will be removed in a future version. Convert inf values to NaN before operating instead.\n",
      "  with pd.option_context('mode.use_inf_as_na', True):\n",
      "/usr/local/lib/python3.11/dist-packages/seaborn/axisgrid.py:118: UserWarning: The figure layout has changed to tight\n",
      "  self._figure.tight_layout(*args, **kwargs)\n"
     ]
    },
    {
     "data": {
      "text/plain": [
       "<seaborn.axisgrid.FacetGrid at 0x7ea7a18fbb90>"
      ]
     },
     "execution_count": 4,
     "metadata": {},
     "output_type": "execute_result"
    },
    {
     "data": {
      "image/png": "[encoded data removed]",
      "text/plain": [
       "<Figure size 500x500 with 1 Axes>"
      ]
     },
     "metadata": {},
     "output_type": "display_data"
    }
   ],
   "source": [
    "sns.displot(train_df['Crop Type'])"
   ]
  },
  {
   "cell_type": "code",
   "execution_count": 5,
   "id": "2c98a829",
   "metadata": {
    "execution": {
     "iopub.execute_input": "2025-06-03T15:04:22.322753Z",
     "iopub.status.busy": "2025-06-03T15:04:22.322441Z",
     "iopub.status.idle": "2025-06-03T15:04:22.675783Z",
     "shell.execute_reply": "2025-06-03T15:04:22.674453Z"
    },
    "papermill": {
     "duration": 0.359912,
     "end_time": "2025-06-03T15:04:22.677709",
     "exception": false,
     "start_time": "2025-06-03T15:04:22.317797",
     "status": "completed"
    },
    "tags": []
   },
   "outputs": [],
   "source": [
    "label_encoders = {}\n",
    "categorical_cols = ['Soil Type', 'Crop Type']\n",
    "\n",
    "for col in categorical_cols:\n",
    "    le = LabelEncoder()\n",
    "    train_df[col] = le.fit_transform(train_df[col])\n",
    "    # Apply the same encoder to the test set\n",
    "    # This assumes test_df[col] does not contain categories not present in train_df[col]\n",
    "    test_df[col] = le.transform(test_df[col])\n",
    "    label_encoders[col] = le"
   ]
  },
  {
   "cell_type": "code",
   "execution_count": 6,
   "id": "0cb5f426",
   "metadata": {
    "execution": {
     "iopub.execute_input": "2025-06-03T15:04:22.686343Z",
     "iopub.status.busy": "2025-06-03T15:04:22.685983Z",
     "iopub.status.idle": "2025-06-03T15:04:22.837471Z",
     "shell.execute_reply": "2025-06-03T15:04:22.836086Z"
    },
    "papermill": {
     "duration": 0.157975,
     "end_time": "2025-06-03T15:04:22.839377",
     "exception": false,
     "start_time": "2025-06-03T15:04:22.681402",
     "status": "completed"
    },
    "tags": []
   },
   "outputs": [],
   "source": [
    "le_fertilizer = LabelEncoder()\n",
    "train_df['Fertilizer Name'] = le_fertilizer.fit_transform(train_df['Fertilizer Name'])"
   ]
  },
  {
   "cell_type": "code",
   "execution_count": 7,
   "id": "7f862424",
   "metadata": {
    "execution": {
     "iopub.execute_input": "2025-06-03T15:04:22.848399Z",
     "iopub.status.busy": "2025-06-03T15:04:22.848006Z",
     "iopub.status.idle": "2025-06-03T15:04:23.291501Z",
     "shell.execute_reply": "2025-06-03T15:04:23.290371Z"
    },
    "papermill": {
     "duration": 0.4499,
     "end_time": "2025-06-03T15:04:23.293377",
     "exception": false,
     "start_time": "2025-06-03T15:04:22.843477",
     "status": "completed"
    },
    "tags": []
   },
   "outputs": [],
   "source": [
    "X = train_df.drop(['id', 'Fertilizer Name'], axis=1)\n",
    "y = train_df['Fertilizer Name']\n",
    "\n",
    "X_test = test_df.drop(['id'], axis=1)\n",
    "X_test = X_test[X.columns]\n",
    "\n",
    "X_train, X_val, y_train, y_val = train_test_split(X, y, test_size=0.2, random_state=0, stratify=y)"
   ]
  },
  {
   "cell_type": "code",
   "execution_count": 8,
   "id": "f70d81c7",
   "metadata": {
    "execution": {
     "iopub.execute_input": "2025-06-03T15:04:23.302953Z",
     "iopub.status.busy": "2025-06-03T15:04:23.302612Z",
     "iopub.status.idle": "2025-06-03T15:07:03.711842Z",
     "shell.execute_reply": "2025-06-03T15:07:03.710851Z"
    },
    "papermill": {
     "duration": 160.419532,
     "end_time": "2025-06-03T15:07:03.716901",
     "exception": false,
     "start_time": "2025-06-03T15:04:23.297369",
     "status": "completed"
    },
    "tags": []
   },
   "outputs": [
    {
     "data": {
      "text/html": [
       "<style>#sk-container-id-1 {color: black;background-color: white;}#sk-container-id-1 pre{padding: 0;}#sk-container-id-1 div.sk-toggleable {background-color: white;}#sk-container-id-1 label.sk-toggleable__label {cursor: pointer;display: block;width: 100%;margin-bottom: 0;padding: 0.3em;box-sizing: border-box;text-align: center;}#sk-container-id-1 label.sk-toggleable__label-arrow:before {content: \"▸\";float: left;margin-right: 0.25em;color: #696969;}#sk-container-id-1 label.sk-toggleable__label-arrow:hover:before {color: black;}#sk-container-id-1 div.sk-estimator:hover label.sk-toggleable__label-arrow:before {color: black;}#sk-container-id-1 div.sk-toggleable__content {max-height: 0;max-width: 0;overflow: hidden;text-align: left;background-color: #f0f8ff;}#sk-container-id-1 div.sk-toggleable__content pre {margin: 0.2em;color: black;border-radius: 0.25em;background-color: #f0f8ff;}#sk-container-id-1 input.sk-toggleable__control:checked~div.sk-toggleable__content {max-height: 200px;max-width: 100%;overflow: auto;}#sk-container-id-1 input.sk-toggleable__control:checked~label.sk-toggleable__label-arrow:before {content: \"▾\";}#sk-container-id-1 div.sk-estimator input.sk-toggleable__control:checked~label.sk-toggleable__label {background-color: #d4ebff;}#sk-container-id-1 div.sk-label input.sk-toggleable__control:checked~label.sk-toggleable__label {background-color: #d4ebff;}#sk-container-id-1 input.sk-hidden--visually {border: 0;clip: rect(1px 1px 1px 1px);clip: rect(1px, 1px, 1px, 1px);height: 1px;margin: -1px;overflow: hidden;padding: 0;position: absolute;width: 1px;}#sk-container-id-1 div.sk-estimator {font-family: monospace;background-color: #f0f8ff;border: 1px dotted black;border-radius: 0.25em;box-sizing: border-box;margin-bottom: 0.5em;}#sk-container-id-1 div.sk-estimator:hover {background-color: #d4ebff;}#sk-container-id-1 div.sk-parallel-item::after {content: \"\";width: 100%;border-bottom: 1px solid gray;flex-grow: 1;}#sk-container-id-1 div.sk-label:hover label.sk-toggleable__label {background-color: #d4ebff;}#sk-container-id-1 div.sk-serial::before {content: \"\";position: absolute;border-left: 1px solid gray;box-sizing: border-box;top: 0;bottom: 0;left: 50%;z-index: 0;}#sk-container-id-1 div.sk-serial {display: flex;flex-direction: column;align-items: center;background-color: white;padding-right: 0.2em;padding-left: 0.2em;position: relative;}#sk-container-id-1 div.sk-item {position: relative;z-index: 1;}#sk-container-id-1 div.sk-parallel {display: flex;align-items: stretch;justify-content: center;background-color: white;position: relative;}#sk-container-id-1 div.sk-item::before, #sk-container-id-1 div.sk-parallel-item::before {content: \"\";position: absolute;border-left: 1px solid gray;box-sizing: border-box;top: 0;bottom: 0;left: 50%;z-index: -1;}#sk-container-id-1 div.sk-parallel-item {display: flex;flex-direction: column;z-index: 1;position: relative;background-color: white;}#sk-container-id-1 div.sk-parallel-item:first-child::after {align-self: flex-end;width: 50%;}#sk-container-id-1 div.sk-parallel-item:last-child::after {align-self: flex-start;width: 50%;}#sk-container-id-1 div.sk-parallel-item:only-child::after {width: 0;}#sk-container-id-1 div.sk-dashed-wrapped {border: 1px dashed gray;margin: 0 0.4em 0.5em 0.4em;box-sizing: border-box;padding-bottom: 0.4em;background-color: white;}#sk-container-id-1 div.sk-label label {font-family: monospace;font-weight: bold;display: inline-block;line-height: 1.2em;}#sk-container-id-1 div.sk-label-container {text-align: center;}#sk-container-id-1 div.sk-container {/* jupyter's `normalize.less` sets `[hidden] { display: none; }` but bootstrap.min.css set `[hidden] { display: none !important; }` so we also need the `!important` here to be able to override the default hidden behavior on the sphinx rendered scikit-learn.org. See: https://github.com/scikit-learn/scikit-learn/issues/21755 */display: inline-block !important;position: relative;}#sk-container-id-1 div.sk-text-repr-fallback {display: none;}</style><div id=\"sk-container-id-1\" class=\"sk-top-container\"><div class=\"sk-text-repr-fallback\"><pre>XGBClassifier(base_score=None, booster=None, callbacks=None,\n",
       "              colsample_bylevel=None, colsample_bynode=None,\n",
       "              colsample_bytree=0.5170031254212086, device=None,\n",
       "              early_stopping_rounds=None, enable_categorical=False,\n",
       "              eval_metric=&#x27;mlogloss&#x27;, feature_types=None,\n",
       "              gamma=0.9983907428517708, grow_policy=None, importance_type=None,\n",
       "              interaction_constraints=None, learning_rate=0.0824718385128289,\n",
       "              max_bin=None, max_cat_threshold=None, max_cat_to_onehot=None,\n",
       "              max_delta_step=None, max_depth=7, max_leaves=None,\n",
       "              min_child_weight=None, missing=nan, monotone_constraints=None,\n",
       "              multi_strategy=None, n_estimators=791, n_jobs=None,\n",
       "              num_parallel_tree=None, objective=&#x27;multi:softprob&#x27;, ...)</pre><b>In a Jupyter environment, please rerun this cell to show the HTML representation or trust the notebook. <br />On GitHub, the HTML representation is unable to render, please try loading this page with nbviewer.org.</b></div><div class=\"sk-container\" hidden><div class=\"sk-item\"><div class=\"sk-estimator sk-toggleable\"><input class=\"sk-toggleable__control sk-hidden--visually\" id=\"sk-estimator-id-1\" type=\"checkbox\" checked><label for=\"sk-estimator-id-1\" class=\"sk-toggleable__label sk-toggleable__label-arrow\">XGBClassifier</label><div class=\"sk-toggleable__content\"><pre>XGBClassifier(base_score=None, booster=None, callbacks=None,\n",
       "              colsample_bylevel=None, colsample_bynode=None,\n",
       "              colsample_bytree=0.5170031254212086, device=None,\n",
       "              early_stopping_rounds=None, enable_categorical=False,\n",
       "              eval_metric=&#x27;mlogloss&#x27;, feature_types=None,\n",
       "              gamma=0.9983907428517708, grow_policy=None, importance_type=None,\n",
       "              interaction_constraints=None, learning_rate=0.0824718385128289,\n",
       "              max_bin=None, max_cat_threshold=None, max_cat_to_onehot=None,\n",
       "              max_delta_step=None, max_depth=7, max_leaves=None,\n",
       "              min_child_weight=None, missing=nan, monotone_constraints=None,\n",
       "              multi_strategy=None, n_estimators=791, n_jobs=None,\n",
       "              num_parallel_tree=None, objective=&#x27;multi:softprob&#x27;, ...)</pre></div></div></div></div></div>"
      ],
      "text/plain": [
       "XGBClassifier(base_score=None, booster=None, callbacks=None,\n",
       "              colsample_bylevel=None, colsample_bynode=None,\n",
       "              colsample_bytree=0.5170031254212086, device=None,\n",
       "              early_stopping_rounds=None, enable_categorical=False,\n",
       "              eval_metric='mlogloss', feature_types=None,\n",
       "              gamma=0.9983907428517708, grow_policy=None, importance_type=None,\n",
       "              interaction_constraints=None, learning_rate=0.0824718385128289,\n",
       "              max_bin=None, max_cat_threshold=None, max_cat_to_onehot=None,\n",
       "              max_delta_step=None, max_depth=7, max_leaves=None,\n",
       "              min_child_weight=None, missing=nan, monotone_constraints=None,\n",
       "              multi_strategy=None, n_estimators=791, n_jobs=None,\n",
       "              num_parallel_tree=None, objective='multi:softprob', ...)"
      ]
     },
     "execution_count": 8,
     "metadata": {},
     "output_type": "execute_result"
    }
   ],
   "source": [
    "xgb_model = XGBClassifier(gamma=0.9983907428517708,\n",
    "                    learning_rate=0.0824718385128289,\n",
    "                    max_depth=7,\n",
    "                    n_estimators=791,\n",
    "                    reg_alpha=2.6733774199868625e-05,\n",
    "                    reg_lambda=0.02024650847345447,\n",
    "                    subsample=0.5971277479596702,\n",
    "                    colsample_bytree=0.5170031254212086,\n",
    "                    eval_metric='mlogloss',\n",
    "                    use_label_encoder=False,\n",
    "                    random_state=42,\n",
    "                    objective='multi:softprob')\n",
    "\n",
    "xgb_model.fit(X_train, y_train)"
   ]
  },
  {
   "cell_type": "code",
   "execution_count": 9,
   "id": "35717774",
   "metadata": {
    "execution": {
     "iopub.execute_input": "2025-06-03T15:07:03.725615Z",
     "iopub.status.busy": "2025-06-03T15:07:03.725310Z",
     "iopub.status.idle": "2025-06-03T15:09:58.548167Z",
     "shell.execute_reply": "2025-06-03T15:09:58.546905Z"
    },
    "papermill": {
     "duration": 174.831893,
     "end_time": "2025-06-03T15:09:58.552568",
     "exception": false,
     "start_time": "2025-06-03T15:07:03.720675",
     "status": "completed"
    },
    "tags": []
   },
   "outputs": [
    {
     "name": "stdout",
     "output_type": "stream",
     "text": [
      "Training model on X_train for validation...\n",
      "MAP@3 на валидационной выборке (модель обучена на X_train): 0.33935\n",
      "------------------------------\n"
     ]
    }
   ],
   "source": [
    "# --- Part 1: Validation (as in original user code) ---\n",
    "print(\"Training model on X_train for validation...\")\n",
    "xgb_model.fit(X_train, y_train)\n",
    "\n",
    "# Define MAP@k function (as provided by user)\n",
    "def mapk_at_k(y_true, y_pred_topk, k=3):\n",
    "    \"\"\"\n",
    "    y_true: массив истинных меток (shape = [n_samples])\n",
    "    y_pred_topk: список списков, где каждый внутренний список —\n",
    "                 топ-k предсказанных меток для соответствующего примера.\n",
    "                 (shape = [n_samples, k])\n",
    "    k: число топ-предсказаний (по умолчанию 3).\n",
    "    \"\"\"\n",
    "    num_samples = len(y_true)\n",
    "    if num_samples == 0:\n",
    "        return 0.0\n",
    "    score = 0.0\n",
    "    for i in range(num_samples):\n",
    "        true_label = y_true[i]\n",
    "        pred_labels = y_pred_topk[i] # This will be a list if y_pred_topk is a list oа lists\n",
    "\n",
    "        if true_label in pred_labels:\n",
    "            try:\n",
    "                # .index() works on lists\n",
    "                rank = pred_labels.index(true_label)\n",
    "                score += 1.0 / (rank + 1)\n",
    "            except ValueError:\n",
    "                # Should not happen if 'true_label in pred_labels' is true\n",
    "                pass\n",
    "    return score / num_samples\n",
    "\n",
    "# Get probability predictions for the validation set\n",
    "y_val_proba = xgb_model.predict_proba(X_val)\n",
    "\n",
    "# Get top-3 predicted class indices for validation set\n",
    "# These indices correspond to the encoded labels\n",
    "top3_indices_val = np.argsort(y_val_proba, axis=1)[:, ::-1][:, :3]\n",
    "\n",
    "# Convert y_val to numpy array for the mapk_at_k function\n",
    "y_val_array = y_val.to_numpy()\n",
    "\n",
    "# Calculate MAP@3 on the validation set\n",
    "# Pass top3_indices_val.tolist() so each element in y_pred_topk is a list\n",
    "map3_val = mapk_at_k(\n",
    "    y_true=y_val_array,\n",
    "    y_pred_topk=top3_indices_val.tolist(),\n",
    "    k=3\n",
    ")\n",
    "print(f\"MAP@3 на валидационной выборке (модель обучена на X_train): {map3_val:.5f}\")\n",
    "print(\"-\" * 30)"
   ]
  },
  {
   "cell_type": "code",
   "execution_count": 10,
   "id": "c5587b22",
   "metadata": {
    "execution": {
     "iopub.execute_input": "2025-06-03T15:09:58.561863Z",
     "iopub.status.busy": "2025-06-03T15:09:58.561552Z",
     "iopub.status.idle": "2025-06-03T15:14:03.386664Z",
     "shell.execute_reply": "2025-06-03T15:14:03.385484Z"
    },
    "papermill": {
     "duration": 244.831928,
     "end_time": "2025-06-03T15:14:03.388381",
     "exception": false,
     "start_time": "2025-06-03T15:09:58.556453",
     "status": "completed"
    },
    "tags": []
   },
   "outputs": [
    {
     "name": "stdout",
     "output_type": "stream",
     "text": [
      "Training final model on the full training dataset (X, y)...\n",
      "Making predictions on the test set...\n",
      "Decoding predictions...\n",
      "Creating submission file...\n",
      "Submission file 'submission.csv' created successfully.\n"
     ]
    }
   ],
   "source": [
    "# --- Part 2: Training on Full Data and Generating Submission ---\n",
    "print(\"Training final model on the full training dataset (X, y)...\")\n",
    "# Retrain the same xgb_model object on the full dataset X, y\n",
    "xgb_model.fit(X, y)\n",
    "\n",
    "print(\"Making predictions on the test set...\")\n",
    "# Get probability predictions for the test set\n",
    "y_test_proba = xgb_model.predict_proba(X_test)\n",
    "\n",
    "# Get top-3 predicted class indices for the test set\n",
    "top3_indices_test = np.argsort(y_test_proba, axis=1)[:, ::-1][:, :3]\n",
    "\n",
    "print(\"Decoding predictions...\")\n",
    "# Decode the predicted class indices back to original fertilizer names\n",
    "predicted_fertilizer_names_list = []\n",
    "for i in range(len(top3_indices_test)):\n",
    "    # top3_indices_test[i] contains the top 3 *encoded* labels\n",
    "    decoded_labels = le_fertilizer.inverse_transform(top3_indices_test[i])\n",
    "    predicted_fertilizer_names_list.append(\" \".join(decoded_labels))\n",
    "\n",
    "print(\"Creating submission file...\")\n",
    "# Create the submission DataFrame\n",
    "submission_df = pd.DataFrame({\n",
    "    'id': test_ids,\n",
    "    'Fertilizer Name': predicted_fertilizer_names_list\n",
    "})\n",
    "\n",
    "# Save the submission file\n",
    "submission_df.to_csv('submission.csv', index=False)\n",
    "print(\"Submission file 'submission.csv' created successfully.\")"
   ]
  }
 ],
 "metadata": {
  "kaggle": {
   "accelerator": "none",
   "dataSources": [
    {
     "databundleVersionId": 12184666,
     "sourceId": 91717,
     "sourceType": "competition"
    }
   ],
   "dockerImageVersionId": 31040,
   "isGpuEnabled": false,
   "isInternetEnabled": true,
   "language": "python",
   "sourceType": "notebook"
  },
  "kernelspec": {
   "display_name": "Python 3",
   "language": "python",
   "name": "python3"
  },
  "language_info": {
   "codemirror_mode": {
    "name": "ipython",
    "version": 3
   },
   "file_extension": ".py",
   "mimetype": "text/x-python",
   "name": "python",
   "nbconvert_exporter": "python",
   "pygments_lexer": "ipython3",
   "version": "3.11.11"
  },
  "papermill": {
   "default_parameters": {},
   "duration": 595.668781,
   "end_time": "2025-06-03T15:14:04.215762",
   "environment_variables": {},
   "exception": null,
   "input_path": "__notebook__.ipynb",
   "output_path": "__notebook__.ipynb",
   "parameters": {},
   "start_time": "2025-06-03T15:04:08.546981",
   "version": "2.6.0"
  }
 },
 "nbformat": 4,
 "nbformat_minor": 5
}
