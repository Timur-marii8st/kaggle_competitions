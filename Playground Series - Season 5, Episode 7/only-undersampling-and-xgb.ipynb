{
 "cells": [
  {
   "cell_type": "code",
   "execution_count": 1,
   "id": "3134bada",
   "metadata": {
    "_cell_guid": "b1076dfc-b9ad-4769-8c92-a6c4dae69d19",
    "_uuid": "8f2839f25d086af736a60e9eeb907d3b93b6e0e5",
    "execution": {
     "iopub.execute_input": "2025-07-18T17:05:09.790674Z",
     "iopub.status.busy": "2025-07-18T17:05:09.790242Z",
     "iopub.status.idle": "2025-07-18T17:05:15.333867Z",
     "shell.execute_reply": "2025-07-18T17:05:15.332613Z"
    },
    "papermill": {
     "duration": 5.551813,
     "end_time": "2025-07-18T17:05:15.335680",
     "exception": false,
     "start_time": "2025-07-18T17:05:09.783867",
     "status": "completed"
    },
    "tags": []
   },
   "outputs": [],
   "source": [
    "# import all shit that we need\n",
    "import pandas as pd\n",
    "import numpy as np\n",
    "import seaborn as sns\n",
    "from scipy.stats import shapiro\n",
    "from xgboost import XGBClassifier\n",
    "from sklearn.model_selection import train_test_split\n",
    "from scipy.stats import boxcox\n",
    "from sklearn.metrics import accuracy_score, classification_report\n",
    "import optuna\n",
    "import xgboost as xgb"
   ]
  },
  {
   "cell_type": "code",
   "execution_count": 2,
   "id": "f56e6631",
   "metadata": {
    "execution": {
     "iopub.execute_input": "2025-07-18T17:05:15.346460Z",
     "iopub.status.busy": "2025-07-18T17:05:15.346014Z",
     "iopub.status.idle": "2025-07-18T17:05:15.413563Z",
     "shell.execute_reply": "2025-07-18T17:05:15.412572Z"
    },
    "papermill": {
     "duration": 0.075126,
     "end_time": "2025-07-18T17:05:15.415584",
     "exception": false,
     "start_time": "2025-07-18T17:05:15.340458",
     "status": "completed"
    },
    "tags": []
   },
   "outputs": [],
   "source": [
    "# load wiuwiuwiwuwiu\n",
    "train_df = pd.read_csv('/kaggle/input/playground-series-s5e7/train.csv')\n",
    "test_df = pd.read_csv('/kaggle/input/playground-series-s5e7/test.csv')"
   ]
  },
  {
   "cell_type": "code",
   "execution_count": 3,
   "id": "46432a8a",
   "metadata": {
    "execution": {
     "iopub.execute_input": "2025-07-18T17:05:15.425473Z",
     "iopub.status.busy": "2025-07-18T17:05:15.425138Z",
     "iopub.status.idle": "2025-07-18T17:05:15.469175Z",
     "shell.execute_reply": "2025-07-18T17:05:15.467866Z"
    },
    "papermill": {
     "duration": 0.051497,
     "end_time": "2025-07-18T17:05:15.471521",
     "exception": false,
     "start_time": "2025-07-18T17:05:15.420024",
     "status": "completed"
    },
    "tags": []
   },
   "outputs": [
    {
     "name": "stderr",
     "output_type": "stream",
     "text": [
      "/usr/local/lib/python3.11/dist-packages/pandas/io/formats/format.py:1458: RuntimeWarning: invalid value encountered in greater\n",
      "  has_large_values = (abs_vals > 1e6).any()\n",
      "/usr/local/lib/python3.11/dist-packages/pandas/io/formats/format.py:1459: RuntimeWarning: invalid value encountered in less\n",
      "  has_small_values = ((abs_vals < 10 ** (-self.digits)) & (abs_vals > 0)).any()\n",
      "/usr/local/lib/python3.11/dist-packages/pandas/io/formats/format.py:1459: RuntimeWarning: invalid value encountered in greater\n",
      "  has_small_values = ((abs_vals < 10 ** (-self.digits)) & (abs_vals > 0)).any()\n"
     ]
    },
    {
     "data": {
      "text/html": [
       "<div>\n",
       "<style scoped>\n",
       "    .dataframe tbody tr th:only-of-type {\n",
       "        vertical-align: middle;\n",
       "    }\n",
       "\n",
       "    .dataframe tbody tr th {\n",
       "        vertical-align: top;\n",
       "    }\n",
       "\n",
       "    .dataframe thead th {\n",
       "        text-align: right;\n",
       "    }\n",
       "</style>\n",
       "<table border=\"1\" class=\"dataframe\">\n",
       "  <thead>\n",
       "    <tr style=\"text-align: right;\">\n",
       "      <th></th>\n",
       "      <th>id</th>\n",
       "      <th>Time_spent_Alone</th>\n",
       "      <th>Stage_fear</th>\n",
       "      <th>Social_event_attendance</th>\n",
       "      <th>Going_outside</th>\n",
       "      <th>Drained_after_socializing</th>\n",
       "      <th>Friends_circle_size</th>\n",
       "      <th>Post_frequency</th>\n",
       "      <th>Personality</th>\n",
       "    </tr>\n",
       "  </thead>\n",
       "  <tbody>\n",
       "    <tr>\n",
       "      <th>0</th>\n",
       "      <td>0</td>\n",
       "      <td>0.0</td>\n",
       "      <td>No</td>\n",
       "      <td>6.0</td>\n",
       "      <td>4.0</td>\n",
       "      <td>No</td>\n",
       "      <td>15.0</td>\n",
       "      <td>5.0</td>\n",
       "      <td>Extrovert</td>\n",
       "    </tr>\n",
       "    <tr>\n",
       "      <th>1</th>\n",
       "      <td>1</td>\n",
       "      <td>1.0</td>\n",
       "      <td>No</td>\n",
       "      <td>7.0</td>\n",
       "      <td>3.0</td>\n",
       "      <td>No</td>\n",
       "      <td>10.0</td>\n",
       "      <td>8.0</td>\n",
       "      <td>Extrovert</td>\n",
       "    </tr>\n",
       "    <tr>\n",
       "      <th>2</th>\n",
       "      <td>2</td>\n",
       "      <td>6.0</td>\n",
       "      <td>Yes</td>\n",
       "      <td>1.0</td>\n",
       "      <td>0.0</td>\n",
       "      <td>NaN</td>\n",
       "      <td>3.0</td>\n",
       "      <td>0.0</td>\n",
       "      <td>Introvert</td>\n",
       "    </tr>\n",
       "    <tr>\n",
       "      <th>3</th>\n",
       "      <td>3</td>\n",
       "      <td>3.0</td>\n",
       "      <td>No</td>\n",
       "      <td>7.0</td>\n",
       "      <td>3.0</td>\n",
       "      <td>No</td>\n",
       "      <td>11.0</td>\n",
       "      <td>5.0</td>\n",
       "      <td>Extrovert</td>\n",
       "    </tr>\n",
       "    <tr>\n",
       "      <th>4</th>\n",
       "      <td>4</td>\n",
       "      <td>1.0</td>\n",
       "      <td>No</td>\n",
       "      <td>4.0</td>\n",
       "      <td>4.0</td>\n",
       "      <td>No</td>\n",
       "      <td>13.0</td>\n",
       "      <td>NaN</td>\n",
       "      <td>Extrovert</td>\n",
       "    </tr>\n",
       "    <tr>\n",
       "      <th>...</th>\n",
       "      <td>...</td>\n",
       "      <td>...</td>\n",
       "      <td>...</td>\n",
       "      <td>...</td>\n",
       "      <td>...</td>\n",
       "      <td>...</td>\n",
       "      <td>...</td>\n",
       "      <td>...</td>\n",
       "      <td>...</td>\n",
       "    </tr>\n",
       "    <tr>\n",
       "      <th>18519</th>\n",
       "      <td>18519</td>\n",
       "      <td>3.0</td>\n",
       "      <td>No</td>\n",
       "      <td>7.0</td>\n",
       "      <td>3.0</td>\n",
       "      <td>No</td>\n",
       "      <td>9.0</td>\n",
       "      <td>7.0</td>\n",
       "      <td>Extrovert</td>\n",
       "    </tr>\n",
       "    <tr>\n",
       "      <th>18520</th>\n",
       "      <td>18520</td>\n",
       "      <td>1.0</td>\n",
       "      <td>NaN</td>\n",
       "      <td>6.0</td>\n",
       "      <td>7.0</td>\n",
       "      <td>No</td>\n",
       "      <td>6.0</td>\n",
       "      <td>5.0</td>\n",
       "      <td>Extrovert</td>\n",
       "    </tr>\n",
       "    <tr>\n",
       "      <th>18521</th>\n",
       "      <td>18521</td>\n",
       "      <td>7.0</td>\n",
       "      <td>Yes</td>\n",
       "      <td>1.0</td>\n",
       "      <td>1.0</td>\n",
       "      <td>Yes</td>\n",
       "      <td>1.0</td>\n",
       "      <td>NaN</td>\n",
       "      <td>Introvert</td>\n",
       "    </tr>\n",
       "    <tr>\n",
       "      <th>18522</th>\n",
       "      <td>18522</td>\n",
       "      <td>NaN</td>\n",
       "      <td>Yes</td>\n",
       "      <td>1.0</td>\n",
       "      <td>0.0</td>\n",
       "      <td>Yes</td>\n",
       "      <td>5.0</td>\n",
       "      <td>2.0</td>\n",
       "      <td>Introvert</td>\n",
       "    </tr>\n",
       "    <tr>\n",
       "      <th>18523</th>\n",
       "      <td>18523</td>\n",
       "      <td>1.0</td>\n",
       "      <td>No</td>\n",
       "      <td>8.0</td>\n",
       "      <td>6.0</td>\n",
       "      <td>No</td>\n",
       "      <td>4.0</td>\n",
       "      <td>7.0</td>\n",
       "      <td>Extrovert</td>\n",
       "    </tr>\n",
       "  </tbody>\n",
       "</table>\n",
       "<p>18524 rows × 9 columns</p>\n",
       "</div>"
      ],
      "text/plain": [
       "          id  Time_spent_Alone Stage_fear  Social_event_attendance  \\\n",
       "0          0               0.0         No                      6.0   \n",
       "1          1               1.0         No                      7.0   \n",
       "2          2               6.0        Yes                      1.0   \n",
       "3          3               3.0         No                      7.0   \n",
       "4          4               1.0         No                      4.0   \n",
       "...      ...               ...        ...                      ...   \n",
       "18519  18519               3.0         No                      7.0   \n",
       "18520  18520               1.0        NaN                      6.0   \n",
       "18521  18521               7.0        Yes                      1.0   \n",
       "18522  18522               NaN        Yes                      1.0   \n",
       "18523  18523               1.0         No                      8.0   \n",
       "\n",
       "       Going_outside Drained_after_socializing  Friends_circle_size  \\\n",
       "0                4.0                        No                 15.0   \n",
       "1                3.0                        No                 10.0   \n",
       "2                0.0                       NaN                  3.0   \n",
       "3                3.0                        No                 11.0   \n",
       "4                4.0                        No                 13.0   \n",
       "...              ...                       ...                  ...   \n",
       "18519            3.0                        No                  9.0   \n",
       "18520            7.0                        No                  6.0   \n",
       "18521            1.0                       Yes                  1.0   \n",
       "18522            0.0                       Yes                  5.0   \n",
       "18523            6.0                        No                  4.0   \n",
       "\n",
       "       Post_frequency Personality  \n",
       "0                 5.0   Extrovert  \n",
       "1                 8.0   Extrovert  \n",
       "2                 0.0   Introvert  \n",
       "3                 5.0   Extrovert  \n",
       "4                 NaN   Extrovert  \n",
       "...               ...         ...  \n",
       "18519             7.0   Extrovert  \n",
       "18520             5.0   Extrovert  \n",
       "18521             NaN   Introvert  \n",
       "18522             2.0   Introvert  \n",
       "18523             7.0   Extrovert  \n",
       "\n",
       "[18524 rows x 9 columns]"
      ]
     },
     "execution_count": 3,
     "metadata": {},
     "output_type": "execute_result"
    }
   ],
   "source": [
    "train_df"
   ]
  },
  {
   "cell_type": "code",
   "execution_count": 4,
   "id": "a45e74d0",
   "metadata": {
    "execution": {
     "iopub.execute_input": "2025-07-18T17:05:15.482775Z",
     "iopub.status.busy": "2025-07-18T17:05:15.482415Z",
     "iopub.status.idle": "2025-07-18T17:05:15.522782Z",
     "shell.execute_reply": "2025-07-18T17:05:15.521542Z"
    },
    "papermill": {
     "duration": 0.047507,
     "end_time": "2025-07-18T17:05:15.524496",
     "exception": false,
     "start_time": "2025-07-18T17:05:15.476989",
     "status": "completed"
    },
    "tags": []
   },
   "outputs": [],
   "source": [
    "# FILL ALL NaN's with mode. Why do it? idk, i just feel that we need to do it) &_& \n",
    "# NaN is BAD!\n",
    "\n",
    "train_df.dropna(axis=0, subset=['Time_spent_Alone'], inplace=True)\n",
    "\n",
    "train_df.dropna(axis=0, thresh=7, inplace=True)\n",
    "\n",
    "mode_value = train_df['Social_event_attendance'].mode()[0]\n",
    "train_df.fillna({'Social_event_attendance' : mode_value}, inplace=True)\n",
    "test_df.fillna({'Social_event_attendance' : mode_value}, inplace=True)\n",
    "\n",
    "\n",
    "mode_value = train_df['Going_outside'].mode()[0]\n",
    "train_df.fillna({'Going_outside' : mode_value}, inplace=True)\n",
    "test_df.fillna({'Going_outside' : mode_value}, inplace=True)\n",
    "\n",
    "\n",
    "mode_value = train_df['Drained_after_socializing'].mode()[0]\n",
    "train_df.fillna({'Drained_after_socializing' : mode_value}, inplace=True)\n",
    "test_df.fillna({'Drained_after_socializing' : mode_value}, inplace=True)\n",
    "\n",
    "\n",
    "mode_value = train_df['Friends_circle_size'].mode()[0]\n",
    "train_df.fillna({'Friends_circle_size' : mode_value}, inplace=True)\n",
    "test_df.fillna({'Friends_circle_size' : mode_value}, inplace=True)\n",
    "\n",
    "\n",
    "mode_value = train_df['Post_frequency'].mode()[0]\n",
    "train_df.fillna({'Post_frequency' : mode_value}, inplace=True)\n",
    "test_df.fillna({'Post_frequency' : mode_value}, inplace=True)"
   ]
  },
  {
   "cell_type": "code",
   "execution_count": 5,
   "id": "909f7a4e",
   "metadata": {
    "execution": {
     "iopub.execute_input": "2025-07-18T17:05:15.534946Z",
     "iopub.status.busy": "2025-07-18T17:05:15.534422Z",
     "iopub.status.idle": "2025-07-18T17:05:15.766742Z",
     "shell.execute_reply": "2025-07-18T17:05:15.765550Z"
    },
    "papermill": {
     "duration": 0.239689,
     "end_time": "2025-07-18T17:05:15.768708",
     "exception": false,
     "start_time": "2025-07-18T17:05:15.529019",
     "status": "completed"
    },
    "tags": []
   },
   "outputs": [],
   "source": [
    "# Undersampling madafaka\n",
    "n = 400\n",
    "zero_rows = train_df[train_df['Time_spent_Alone'] == 0]\n",
    "drop_indices = zero_rows.sample(n=n, random_state=42).index\n",
    "train_df.drop(index=drop_indices, inplace=True)\n",
    "\n",
    "train_df['Time_spent_Alone'], _ = boxcox(train_df['Time_spent_Alone'] + 1)"
   ]
  },
  {
   "cell_type": "code",
   "execution_count": 6,
   "id": "de6621ba",
   "metadata": {
    "execution": {
     "iopub.execute_input": "2025-07-18T17:05:15.779992Z",
     "iopub.status.busy": "2025-07-18T17:05:15.779071Z",
     "iopub.status.idle": "2025-07-18T17:05:16.198814Z",
     "shell.execute_reply": "2025-07-18T17:05:16.197543Z"
    },
    "papermill": {
     "duration": 0.426816,
     "end_time": "2025-07-18T17:05:16.200513",
     "exception": false,
     "start_time": "2025-07-18T17:05:15.773697",
     "status": "completed"
    },
    "tags": []
   },
   "outputs": [
    {
     "name": "stdout",
     "output_type": "stream",
     "text": [
      "p-value: 1.5103819206779706e-62\n"
     ]
    },
    {
     "name": "stderr",
     "output_type": "stream",
     "text": [
      "/usr/local/lib/python3.11/dist-packages/scipy/stats/_axis_nan_policy.py:586: UserWarning: scipy.stats.shapiro: For N > 5000, computed p-value may not be accurate. Current N is 16909.\n",
      "  res = hypotest_fun_out(*samples, **kwds)\n",
      "/usr/local/lib/python3.11/dist-packages/seaborn/_oldcore.py:1119: FutureWarning: use_inf_as_na option is deprecated and will be removed in a future version. Convert inf values to NaN before operating instead.\n",
      "  with pd.option_context('mode.use_inf_as_na', True):\n",
      "/usr/local/lib/python3.11/dist-packages/seaborn/axisgrid.py:118: UserWarning: The figure layout has changed to tight\n",
      "  self._figure.tight_layout(*args, **kwargs)\n"
     ]
    },
    {
     "data": {
      "text/plain": [
       "<seaborn.axisgrid.FacetGrid at 0x7f560a3ffc10>"
      ]
     },
     "execution_count": 6,
     "metadata": {},
     "output_type": "execute_result"
    },
    {
     "data": {
      "image/png": "[encoded data removed]",
      "text/plain": [
       "<Figure size 500x500 with 1 Axes>"
      ]
     },
     "metadata": {},
     "output_type": "display_data"
    }
   ],
   "source": [
    "# UUUUUU look at this distribution in column\n",
    "stat, p = shapiro(train_df['Time_spent_Alone'])\n",
    "print(f\"p-value: {p}\")\n",
    "sns.displot(train_df['Time_spent_Alone'])"
   ]
  },
  {
   "cell_type": "code",
   "execution_count": 7,
   "id": "85f9c123",
   "metadata": {
    "execution": {
     "iopub.execute_input": "2025-07-18T17:05:16.212078Z",
     "iopub.status.busy": "2025-07-18T17:05:16.211688Z",
     "iopub.status.idle": "2025-07-18T17:05:16.249818Z",
     "shell.execute_reply": "2025-07-18T17:05:16.248469Z"
    },
    "papermill": {
     "duration": 0.046215,
     "end_time": "2025-07-18T17:05:16.251928",
     "exception": false,
     "start_time": "2025-07-18T17:05:16.205713",
     "status": "completed"
    },
    "tags": []
   },
   "outputs": [
    {
     "name": "stderr",
     "output_type": "stream",
     "text": [
      "/tmp/ipykernel_13/1660619562.py:4: FutureWarning: Downcasting behavior in `replace` is deprecated and will be removed in a future version. To retain the old behavior, explicitly call `result.infer_objects(copy=False)`. To opt-in to the future behavior, set `pd.set_option('future.no_silent_downcasting', True)`\n",
      "  .replace({'Yes': 1, 'No': 0})\n",
      "/tmp/ipykernel_13/1660619562.py:10: FutureWarning: Downcasting behavior in `replace` is deprecated and will be removed in a future version. To retain the old behavior, explicitly call `result.infer_objects(copy=False)`. To opt-in to the future behavior, set `pd.set_option('future.no_silent_downcasting', True)`\n",
      "  .replace({'Introvert': 0, 'Extrovert': 1})\n",
      "/tmp/ipykernel_13/1660619562.py:16: FutureWarning: Downcasting behavior in `replace` is deprecated and will be removed in a future version. To retain the old behavior, explicitly call `result.infer_objects(copy=False)`. To opt-in to the future behavior, set `pd.set_option('future.no_silent_downcasting', True)`\n",
      "  .replace({'Yes': 1, 'No': 0})\n"
     ]
    }
   ],
   "source": [
    "# Simple Encoding for our categ. columns\n",
    "train_df[['Stage_fear', 'Drained_after_socializing']] = (\n",
    "    train_df[['Stage_fear', 'Drained_after_socializing']]\n",
    "    .replace({'Yes': 1, 'No': 0})\n",
    "    .infer_objects(copy=False)\n",
    ")\n",
    "\n",
    "train_df['Personality'] = (\n",
    "    train_df['Personality']\n",
    "    .replace({'Introvert': 0, 'Extrovert': 1})\n",
    "    .infer_objects(copy=False)\n",
    ")\n",
    "\n",
    "test_df[['Stage_fear', 'Drained_after_socializing']] = (\n",
    "    test_df[['Stage_fear', 'Drained_after_socializing']]\n",
    "    .replace({'Yes': 1, 'No': 0})\n",
    "    .infer_objects(copy=False)\n",
    ")"
   ]
  },
  {
   "cell_type": "code",
   "execution_count": 8,
   "id": "d3a857bc",
   "metadata": {
    "execution": {
     "iopub.execute_input": "2025-07-18T17:05:16.264098Z",
     "iopub.status.busy": "2025-07-18T17:05:16.263700Z",
     "iopub.status.idle": "2025-07-18T17:05:16.289515Z",
     "shell.execute_reply": "2025-07-18T17:05:16.288329Z"
    },
    "papermill": {
     "duration": 0.033976,
     "end_time": "2025-07-18T17:05:16.291491",
     "exception": false,
     "start_time": "2025-07-18T17:05:16.257515",
     "status": "completed"
    },
    "tags": []
   },
   "outputs": [],
   "source": [
    "# Makeing some stupid-way(tak nado blya) undersampling\n",
    "n = 50\n",
    "zero_rows = train_df[train_df['Stage_fear'] == 0]\n",
    "drop_indices = zero_rows.sample(n=n, random_state=42).index\n",
    "train_df.drop(index=drop_indices, inplace=True)\n",
    "\n",
    "zero_rows = train_df[train_df['Stage_fear'] == 0]\n",
    "drop_indices = zero_rows.sample(n=n, random_state=42).index\n",
    "train_df.drop(index=drop_indices, inplace=True)\n",
    "\n",
    "zero_rows = train_df[train_df['Stage_fear'] == 0]\n",
    "drop_indices = zero_rows.sample(n=n, random_state=42).index\n",
    "train_df.drop(index=drop_indices, inplace=True)\n",
    "\n",
    "zero_rows = train_df[train_df['Stage_fear'] == 0]\n",
    "drop_indices = zero_rows.sample(n=n, random_state=42).index\n",
    "train_df.drop(index=drop_indices, inplace=True)"
   ]
  },
  {
   "cell_type": "code",
   "execution_count": 9,
   "id": "bc207e14",
   "metadata": {
    "execution": {
     "iopub.execute_input": "2025-07-18T17:05:16.303090Z",
     "iopub.status.busy": "2025-07-18T17:05:16.302686Z",
     "iopub.status.idle": "2025-07-18T17:05:16.619140Z",
     "shell.execute_reply": "2025-07-18T17:05:16.618144Z"
    },
    "papermill": {
     "duration": 0.324255,
     "end_time": "2025-07-18T17:05:16.621014",
     "exception": false,
     "start_time": "2025-07-18T17:05:16.296759",
     "status": "completed"
    },
    "tags": []
   },
   "outputs": [
    {
     "name": "stderr",
     "output_type": "stream",
     "text": [
      "/usr/local/lib/python3.11/dist-packages/seaborn/_oldcore.py:1119: FutureWarning: use_inf_as_na option is deprecated and will be removed in a future version. Convert inf values to NaN before operating instead.\n",
      "  with pd.option_context('mode.use_inf_as_na', True):\n",
      "/usr/local/lib/python3.11/dist-packages/seaborn/axisgrid.py:118: UserWarning: The figure layout has changed to tight\n",
      "  self._figure.tight_layout(*args, **kwargs)\n"
     ]
    },
    {
     "data": {
      "text/plain": [
       "<seaborn.axisgrid.FacetGrid at 0x7f560a18e790>"
      ]
     },
     "execution_count": 9,
     "metadata": {},
     "output_type": "execute_result"
    },
    {
     "data": {
      "image/png": "[encoded data removed]",
      "text/plain": [
       "<Figure size 500x500 with 1 Axes>"
      ]
     },
     "metadata": {},
     "output_type": "display_data"
    }
   ],
   "source": [
    "# UUUUUU look at this distribution in column\n",
    "sns.displot(train_df['Stage_fear'])"
   ]
  },
  {
   "cell_type": "code",
   "execution_count": 10,
   "id": "c34d9f13",
   "metadata": {
    "execution": {
     "iopub.execute_input": "2025-07-18T17:05:16.635135Z",
     "iopub.status.busy": "2025-07-18T17:05:16.634789Z",
     "iopub.status.idle": "2025-07-18T17:05:16.953698Z",
     "shell.execute_reply": "2025-07-18T17:05:16.952678Z"
    },
    "papermill": {
     "duration": 0.328268,
     "end_time": "2025-07-18T17:05:16.955315",
     "exception": false,
     "start_time": "2025-07-18T17:05:16.627047",
     "status": "completed"
    },
    "tags": []
   },
   "outputs": [
    {
     "name": "stderr",
     "output_type": "stream",
     "text": [
      "/usr/local/lib/python3.11/dist-packages/scipy/stats/_axis_nan_policy.py:586: UserWarning: scipy.stats.shapiro: For N > 5000, computed p-value may not be accurate. Current N is 16709.\n",
      "  res = hypotest_fun_out(*samples, **kwds)\n"
     ]
    },
    {
     "name": "stdout",
     "output_type": "stream",
     "text": [
      "p-value: 2.7750473881880377e-55\n"
     ]
    },
    {
     "name": "stderr",
     "output_type": "stream",
     "text": [
      "/usr/local/lib/python3.11/dist-packages/seaborn/_oldcore.py:1119: FutureWarning: use_inf_as_na option is deprecated and will be removed in a future version. Convert inf values to NaN before operating instead.\n",
      "  with pd.option_context('mode.use_inf_as_na', True):\n",
      "/usr/local/lib/python3.11/dist-packages/seaborn/axisgrid.py:118: UserWarning: The figure layout has changed to tight\n",
      "  self._figure.tight_layout(*args, **kwargs)\n"
     ]
    },
    {
     "data": {
      "text/plain": [
       "<seaborn.axisgrid.FacetGrid at 0x7f560a075290>"
      ]
     },
     "execution_count": 10,
     "metadata": {},
     "output_type": "execute_result"
    },
    {
     "data": {
      "image/png": "[encoded data removed]",
      "text/plain": [
       "<Figure size 500x500 with 1 Axes>"
      ]
     },
     "metadata": {},
     "output_type": "display_data"
    }
   ],
   "source": [
    "# UUUUUU look at this distribution in column\n",
    "stat, p = shapiro(train_df['Social_event_attendance'])\n",
    "print(f\"p-value: {p}\")\n",
    "sns.displot(train_df['Social_event_attendance'])"
   ]
  },
  {
   "cell_type": "code",
   "execution_count": 11,
   "id": "9c8e3693",
   "metadata": {
    "execution": {
     "iopub.execute_input": "2025-07-18T17:05:16.969278Z",
     "iopub.status.busy": "2025-07-18T17:05:16.968909Z",
     "iopub.status.idle": "2025-07-18T17:05:16.984498Z",
     "shell.execute_reply": "2025-07-18T17:05:16.982951Z"
    },
    "papermill": {
     "duration": 0.024963,
     "end_time": "2025-07-18T17:05:16.986652",
     "exception": false,
     "start_time": "2025-07-18T17:05:16.961689",
     "status": "completed"
    },
    "tags": []
   },
   "outputs": [],
   "source": [
    "# Undersampling madafaka\n",
    "n = 100\n",
    "zero_rows = train_df[train_df['Social_event_attendance'] == 4]\n",
    "drop_indices = zero_rows.sample(n=n, random_state=42).index\n",
    "train_df.drop(index=drop_indices, inplace=True)\n",
    "\n",
    "zero_rows = train_df[train_df['Social_event_attendance'] == 4]\n",
    "drop_indices = zero_rows.sample(n=n, random_state=42).index\n",
    "train_df.drop(index=drop_indices, inplace=True)"
   ]
  },
  {
   "cell_type": "code",
   "execution_count": 12,
   "id": "d827e1e1",
   "metadata": {
    "execution": {
     "iopub.execute_input": "2025-07-18T17:05:17.001314Z",
     "iopub.status.busy": "2025-07-18T17:05:17.000459Z",
     "iopub.status.idle": "2025-07-18T17:05:17.007688Z",
     "shell.execute_reply": "2025-07-18T17:05:17.006576Z"
    },
    "papermill": {
     "duration": 0.016188,
     "end_time": "2025-07-18T17:05:17.009558",
     "exception": false,
     "start_time": "2025-07-18T17:05:16.993370",
     "status": "completed"
    },
    "tags": []
   },
   "outputs": [],
   "source": [
    "test_ids = test_df['id']\n",
    "test_data = test_df.drop(['id'], axis=1)"
   ]
  },
  {
   "cell_type": "code",
   "execution_count": 13,
   "id": "50cdae3a",
   "metadata": {
    "execution": {
     "iopub.execute_input": "2025-07-18T17:05:17.024344Z",
     "iopub.status.busy": "2025-07-18T17:05:17.024016Z",
     "iopub.status.idle": "2025-07-18T17:05:18.150455Z",
     "shell.execute_reply": "2025-07-18T17:05:18.149126Z"
    },
    "papermill": {
     "duration": 1.135835,
     "end_time": "2025-07-18T17:05:18.152223",
     "exception": false,
     "start_time": "2025-07-18T17:05:17.016388",
     "status": "completed"
    },
    "tags": []
   },
   "outputs": [
    {
     "name": "stderr",
     "output_type": "stream",
     "text": [
      "/usr/local/lib/python3.11/dist-packages/xgboost/sklearn.py:889: UserWarning: `early_stopping_rounds` in `fit` method is deprecated for better compatibility with scikit-learn, use `early_stopping_rounds` in constructor or`set_params` instead.\n",
      "  warnings.warn(\n"
     ]
    },
    {
     "name": "stdout",
     "output_type": "stream",
     "text": [
      "Accuracy: 0.9754694124772865\n",
      "\n",
      "Classification Report:\n",
      "              precision    recall  f1-score   support\n",
      "\n",
      "           0       0.96      0.95      0.95       880\n",
      "           1       0.98      0.98      0.98      2422\n",
      "\n",
      "    accuracy                           0.98      3302\n",
      "   macro avg       0.97      0.97      0.97      3302\n",
      "weighted avg       0.98      0.98      0.98      3302\n",
      "\n"
     ]
    }
   ],
   "source": [
    "# BTW xgb with optuned parameters\n",
    "y = train_df['Personality']\n",
    "X = train_df.drop(['Personality', 'id'], axis=1)\n",
    "\n",
    "X_train, X_test, y_train, y_test = train_test_split(X, y, test_size=0.2, random_state=42)\n",
    "\n",
    "model = xgb.XGBClassifier(\n",
    "    objective='binary:logistic',\n",
    "    n_estimators=1300,\n",
    "    learning_rate=0.01,\n",
    "    max_depth=5,\n",
    "    subsample=0.7215006154516073,\n",
    "    colsample_bytree=0.9273052947148649,\n",
    "    gamma=0.5,\n",
    "    reg_alpha=1,\n",
    "    reg_lambda=1,\n",
    "    eval_metric='logloss',\n",
    "    random_state=42\n",
    ")\n",
    "\n",
    "model.fit(X_train, y_train,\n",
    "          eval_set=[(X_test, y_test)],\n",
    "          early_stopping_rounds=10,\n",
    "          verbose=False)\n",
    "\n",
    "preds = model.predict(X_test)\n",
    "pred_proba = model.predict_proba(X_test)[:, 1]\n",
    "\n",
    "print(f\"Accuracy: {accuracy_score(y_test, preds)}\")\n",
    "print(\"\\nClassification Report:\")\n",
    "print(classification_report(y_test, preds))"
   ]
  },
  {
   "cell_type": "markdown",
   "id": "c5af0eef",
   "metadata": {
    "papermill": {
     "duration": 0.005968,
     "end_time": "2025-07-18T17:05:18.164938",
     "exception": false,
     "start_time": "2025-07-18T17:05:18.158970",
     "status": "completed"
    },
    "tags": []
   },
   "source": [
    "def objective(trial):\n",
    "    param = {\n",
    "        'objective': 'binary:logistic',\n",
    "        'eval_metric': 'logloss',\n",
    "        'seed': 42,\n",
    "        'n_estimators': trial.suggest_int('n_estimators', 50, 1000),\n",
    "        'learning_rate': trial.suggest_float('learning_rate', 0.01, 0.3),\n",
    "        'max_depth': trial.suggest_int('max_depth', 3, 10),\n",
    "        'subsample': trial.suggest_float('subsample', 0.6, 1.0),\n",
    "        'colsample_bytree': trial.suggest_float('colsample_bytree', 0.6, 1.0),\n",
    "        'gamma': trial.suggest_float('gamma', 0.0, 0.5),\n",
    "        'reg_alpha': trial.suggest_float('reg_alpha', 0.0, 0.5), # L1 regularization\n",
    "        'reg_lambda': trial.suggest_float('reg_lambda', 0.0, 0.5), # L2 regularization\n",
    "    }\n",
    "    model = xgb.XGBClassifier(**param)\n",
    "    model.fit(X_train, y_train,\n",
    "              eval_set=[(X_test, y_test)],\n",
    "              early_stopping_rounds=14,\n",
    "              verbose=False)\n",
    "    preds = model.predict(X_test)\n",
    "    accuracy = accuracy_score(y_test, preds)\n",
    "    return accuracy\n",
    "    \n",
    "y = train_df['Personality']\n",
    "X = train_df.drop(['Personality', 'id'], axis=1)\n",
    "\n",
    "X_train, X_test, y_train, y_test = train_test_split(X, y, test_size=0.2, random_state=42)\n",
    "\n",
    "\n",
    "study = optuna.create_study(direction='maximize')\n",
    "study.optimize(objective, n_trials=50)\n",
    "\n",
    "print(\"\\nNumber of finished trials:\", len(study.trials))\n",
    "print(\"Best trial:\")\n",
    "trial = study.best_trial\n",
    "\n",
    "print(\"  Value: \", trial.value)\n",
    "print(\"  Params: \")\n",
    "for key, value in trial.params.items():\n",
    "    print(f\"    {key}: {value}\")\n",
    "\n",
    "best_params = study.best_params\n",
    "final_model = xgb.XGBClassifier(\n",
    "    objective='binary:logistic',\n",
    "    eval_metric='logloss',\n",
    "    random_state=42,\n",
    "    **best_params\n",
    ")\n",
    "\n",
    "final_model.fit(X_train, y_train,\n",
    "                eval_set=[(X_test, y_test)],\n",
    "                early_stopping_rounds=14,\n",
    "                verbose=False)\n",
    "\n",
    "final_preds = final_model.predict(X_test)\n",
    "final_pred_proba = final_model.predict_proba(X_test)[:, 1]\n",
    "\n",
    "print(f\"\\nFinal Model Accuracy with Best Optuna Params: {accuracy_score(y_test, final_preds)}\")\n",
    "print(\"\\nFinal Model Classification Report:\")\n",
    "print(classification_report(y_test, final_preds))"
   ]
  },
  {
   "cell_type": "code",
   "execution_count": 14,
   "id": "0b7a937d",
   "metadata": {
    "execution": {
     "iopub.execute_input": "2025-07-18T17:05:18.179857Z",
     "iopub.status.busy": "2025-07-18T17:05:18.179472Z",
     "iopub.status.idle": "2025-07-18T17:05:19.914490Z",
     "shell.execute_reply": "2025-07-18T17:05:19.912104Z"
    },
    "papermill": {
     "duration": 1.744823,
     "end_time": "2025-07-18T17:05:19.916742",
     "exception": false,
     "start_time": "2025-07-18T17:05:18.171919",
     "status": "completed"
    },
    "tags": []
   },
   "outputs": [
    {
     "name": "stdout",
     "output_type": "stream",
     "text": [
      "\n",
      "Final Model Accuracy on Validation Set (X_test): 0.9769836462749849\n"
     ]
    }
   ],
   "source": [
    "# Finish direct line. Training final model and making submission file\n",
    "model.fit(X, y) \n",
    "\n",
    "final_preds_on_X_test = model.predict(X_test)\n",
    "final_pred_proba_on_X_test = model.predict_proba(X_test)[:, 1]\n",
    "\n",
    "print(f\"\\nFinal Model Accuracy on Validation Set (X_test): {accuracy_score(y_test, final_preds_on_X_test)}\")"
   ]
  },
  {
   "cell_type": "code",
   "execution_count": 15,
   "id": "5de1da59",
   "metadata": {
    "execution": {
     "iopub.execute_input": "2025-07-18T17:05:19.930930Z",
     "iopub.status.busy": "2025-07-18T17:05:19.930134Z",
     "iopub.status.idle": "2025-07-18T17:05:20.049833Z",
     "shell.execute_reply": "2025-07-18T17:05:20.048182Z"
    },
    "papermill": {
     "duration": 0.12898,
     "end_time": "2025-07-18T17:05:20.052103",
     "exception": false,
     "start_time": "2025-07-18T17:05:19.923123",
     "status": "completed"
    },
    "tags": []
   },
   "outputs": [
    {
     "name": "stdout",
     "output_type": "stream",
     "text": [
      "\n",
      "Making predictions on test_data for Kaggle submission...\n",
      "Creating submission.csv file...\n",
      "Submission file 'submission.csv' created successfully!\n",
      "      id Personality\n",
      "0  18524   Extrovert\n",
      "1  18525   Introvert\n",
      "2  18526   Extrovert\n",
      "3  18527   Extrovert\n",
      "4  18528   Introvert\n"
     ]
    }
   ],
   "source": [
    "print(\"\\nMaking predictions on test_data for Kaggle submission...\")\n",
    "kaggle_predictions_num = model.predict(test_data)\n",
    "\n",
    "label_mapping = {0: 'Introvert', 1: 'Extrovert'}\n",
    "kaggle_predictions = pd.Series(kaggle_predictions_num).map(label_mapping)\n",
    "\n",
    "# making submission.csv\n",
    "print(\"Creating submission.csv file...\")\n",
    "submission_df = pd.DataFrame({\n",
    "    'id': test_ids,\n",
    "    'Personality': kaggle_predictions\n",
    "})\n",
    "\n",
    "submission_file_name = 'submission.csv'\n",
    "submission_df.to_csv(submission_file_name, index=False)\n",
    "\n",
    "print(f\"Submission file '{submission_file_name}' created successfully!\")\n",
    "print(submission_df.head())"
   ]
  },
  {
   "cell_type": "code",
   "execution_count": null,
   "id": "79e63238",
   "metadata": {
    "papermill": {
     "duration": 0.008756,
     "end_time": "2025-07-18T17:05:20.067517",
     "exception": false,
     "start_time": "2025-07-18T17:05:20.058761",
     "status": "completed"
    },
    "tags": []
   },
   "outputs": [],
   "source": []
  }
 ],
 "metadata": {
  "kaggle": {
   "accelerator": "none",
   "dataSources": [
    {
     "databundleVersionId": 12738969,
     "sourceId": 91718,
     "sourceType": "competition"
    }
   ],
   "dockerImageVersionId": 31089,
   "isGpuEnabled": false,
   "isInternetEnabled": true,
   "language": "python",
   "sourceType": "notebook"
  },
  "kernelspec": {
   "display_name": "Python 3",
   "language": "python",
   "name": "python3"
  },
  "language_info": {
   "codemirror_mode": {
    "name": "ipython",
    "version": 3
   },
   "file_extension": ".py",
   "mimetype": "text/x-python",
   "name": "python",
   "nbconvert_exporter": "python",
   "pygments_lexer": "ipython3",
   "version": "3.11.13"
  },
  "papermill": {
   "default_parameters": {},
   "duration": 16.82313,
   "end_time": "2025-07-18T17:05:20.798178",
   "environment_variables": {},
   "exception": null,
   "input_path": "__notebook__.ipynb",
   "output_path": "__notebook__.ipynb",
   "parameters": {},
   "start_time": "2025-07-18T17:05:03.975048",
   "version": "2.6.0"
  }
 },
 "nbformat": 4,
 "nbformat_minor": 5
}
